{
 "cells": [
  {
   "cell_type": "markdown",
   "metadata": {},
   "source": [
    "# Part1: Data wrangling for files describing the Pacific and Atlantic hurricane tracks"
   ]
  },
  {
   "cell_type": "markdown",
   "metadata": {},
   "source": [
    "We will be using the data files presented by the Department of the Interior of US Geological Survey, that describe the tracks of historic hurricanes originated in Pacific and Atlantic oceans. The datasets were downloaded from the webpages:\n",
    "\n",
    "https://catalog.data.gov/dataset/historical-north-atlantic-tropical-cyclone-tracks-1851-2004-direct-download\n",
    "\n",
    "https://catalog.data.gov/dataset/historical-eastern-north-pacific-tropical-cyclone-tracks-1949-2004-direct-download\n",
    "\n",
    "We first import all necessary modules including the .dbf file reader DBF5 to obtain the Pacific and Atlantic hurricane tracks dataframes."
   ]
  },
  {
   "cell_type": "code",
   "execution_count": 2,
   "metadata": {
    "collapsed": true
   },
   "outputs": [],
   "source": [
    "# import the .dbf file reader\n",
    "from simpledbf import Dbf5\n",
    "\n",
    "import pandas as pd\n",
    "import numpy as np\n",
    "\n",
    "import gpxpy.geo\n"
   ]
  },
  {
   "cell_type": "markdown",
   "metadata": {},
   "source": [
    "We then read the tracks files into the dataframes df_Atl and df_Pac. Running .info() indicates that these files contain no missing values."
   ]
  },
  {
   "cell_type": "code",
   "execution_count": 584,
   "metadata": {
    "collapsed": false
   },
   "outputs": [
    {
     "data": {
      "text/html": [
       "<div>\n",
       "<table border=\"1\" class=\"dataframe\">\n",
       "  <thead>\n",
       "    <tr style=\"text-align: right;\">\n",
       "      <th></th>\n",
       "      <th>FNODE_</th>\n",
       "      <th>TNODE_</th>\n",
       "      <th>LPOLY_</th>\n",
       "      <th>RPOLY_</th>\n",
       "      <th>LENGTH</th>\n",
       "      <th>PHRALLL020</th>\n",
       "      <th>YEAR</th>\n",
       "      <th>MONTH</th>\n",
       "      <th>DAY</th>\n",
       "      <th>BTID</th>\n",
       "      <th>NAME</th>\n",
       "      <th>LONG</th>\n",
       "      <th>LAT</th>\n",
       "      <th>WIND_KTS</th>\n",
       "      <th>PRESSURE</th>\n",
       "      <th>WIND_MPH</th>\n",
       "      <th>CATEGORY</th>\n",
       "    </tr>\n",
       "  </thead>\n",
       "  <tbody>\n",
       "    <tr>\n",
       "      <th>0</th>\n",
       "      <td>0</td>\n",
       "      <td>0</td>\n",
       "      <td>0</td>\n",
       "      <td>0</td>\n",
       "      <td>0.099999</td>\n",
       "      <td>1</td>\n",
       "      <td>1949</td>\n",
       "      <td>6</td>\n",
       "      <td>11</td>\n",
       "      <td>1</td>\n",
       "      <td>NOT NAMED</td>\n",
       "      <td>-106.3</td>\n",
       "      <td>20.2</td>\n",
       "      <td>45.0</td>\n",
       "      <td>0</td>\n",
       "      <td>50.0</td>\n",
       "      <td>TS</td>\n",
       "    </tr>\n",
       "    <tr>\n",
       "      <th>1</th>\n",
       "      <td>0</td>\n",
       "      <td>0</td>\n",
       "      <td>0</td>\n",
       "      <td>0</td>\n",
       "      <td>0.299995</td>\n",
       "      <td>2</td>\n",
       "      <td>1949</td>\n",
       "      <td>6</td>\n",
       "      <td>11</td>\n",
       "      <td>1</td>\n",
       "      <td>NOT NAMED</td>\n",
       "      <td>-106.4</td>\n",
       "      <td>20.2</td>\n",
       "      <td>45.0</td>\n",
       "      <td>0</td>\n",
       "      <td>50.0</td>\n",
       "      <td>TS</td>\n",
       "    </tr>\n",
       "    <tr>\n",
       "      <th>2</th>\n",
       "      <td>0</td>\n",
       "      <td>0</td>\n",
       "      <td>0</td>\n",
       "      <td>0</td>\n",
       "      <td>1.004990</td>\n",
       "      <td>3</td>\n",
       "      <td>1949</td>\n",
       "      <td>6</td>\n",
       "      <td>11</td>\n",
       "      <td>1</td>\n",
       "      <td>NOT NAMED</td>\n",
       "      <td>-106.7</td>\n",
       "      <td>20.2</td>\n",
       "      <td>45.0</td>\n",
       "      <td>0</td>\n",
       "      <td>50.0</td>\n",
       "      <td>TS</td>\n",
       "    </tr>\n",
       "    <tr>\n",
       "      <th>3</th>\n",
       "      <td>0</td>\n",
       "      <td>0</td>\n",
       "      <td>0</td>\n",
       "      <td>0</td>\n",
       "      <td>0.905540</td>\n",
       "      <td>4</td>\n",
       "      <td>1949</td>\n",
       "      <td>6</td>\n",
       "      <td>11</td>\n",
       "      <td>1</td>\n",
       "      <td>NOT NAMED</td>\n",
       "      <td>-107.7</td>\n",
       "      <td>20.3</td>\n",
       "      <td>45.0</td>\n",
       "      <td>0</td>\n",
       "      <td>50.0</td>\n",
       "      <td>TS</td>\n",
       "    </tr>\n",
       "    <tr>\n",
       "      <th>4</th>\n",
       "      <td>0</td>\n",
       "      <td>0</td>\n",
       "      <td>0</td>\n",
       "      <td>0</td>\n",
       "      <td>0.806229</td>\n",
       "      <td>5</td>\n",
       "      <td>1949</td>\n",
       "      <td>6</td>\n",
       "      <td>12</td>\n",
       "      <td>1</td>\n",
       "      <td>NOT NAMED</td>\n",
       "      <td>-108.6</td>\n",
       "      <td>20.4</td>\n",
       "      <td>45.0</td>\n",
       "      <td>0</td>\n",
       "      <td>50.0</td>\n",
       "      <td>TS</td>\n",
       "    </tr>\n",
       "    <tr>\n",
       "      <th>5</th>\n",
       "      <td>0</td>\n",
       "      <td>0</td>\n",
       "      <td>0</td>\n",
       "      <td>0</td>\n",
       "      <td>0.806221</td>\n",
       "      <td>6</td>\n",
       "      <td>1949</td>\n",
       "      <td>6</td>\n",
       "      <td>12</td>\n",
       "      <td>1</td>\n",
       "      <td>NOT NAMED</td>\n",
       "      <td>-109.4</td>\n",
       "      <td>20.5</td>\n",
       "      <td>45.0</td>\n",
       "      <td>0</td>\n",
       "      <td>50.0</td>\n",
       "      <td>TS</td>\n",
       "    </tr>\n",
       "    <tr>\n",
       "      <th>6</th>\n",
       "      <td>0</td>\n",
       "      <td>0</td>\n",
       "      <td>0</td>\n",
       "      <td>0</td>\n",
       "      <td>0.000107</td>\n",
       "      <td>7</td>\n",
       "      <td>1949</td>\n",
       "      <td>6</td>\n",
       "      <td>12</td>\n",
       "      <td>1</td>\n",
       "      <td>NOT NAMED</td>\n",
       "      <td>-110.2</td>\n",
       "      <td>20.6</td>\n",
       "      <td>45.0</td>\n",
       "      <td>0</td>\n",
       "      <td>50.0</td>\n",
       "      <td>TS</td>\n",
       "    </tr>\n",
       "    <tr>\n",
       "      <th>7</th>\n",
       "      <td>0</td>\n",
       "      <td>0</td>\n",
       "      <td>0</td>\n",
       "      <td>0</td>\n",
       "      <td>0.860230</td>\n",
       "      <td>8</td>\n",
       "      <td>1949</td>\n",
       "      <td>6</td>\n",
       "      <td>17</td>\n",
       "      <td>2</td>\n",
       "      <td>NOT NAMED</td>\n",
       "      <td>-107.0</td>\n",
       "      <td>14.1</td>\n",
       "      <td>45.0</td>\n",
       "      <td>0</td>\n",
       "      <td>50.0</td>\n",
       "      <td>TS</td>\n",
       "    </tr>\n",
       "    <tr>\n",
       "      <th>8</th>\n",
       "      <td>0</td>\n",
       "      <td>0</td>\n",
       "      <td>0</td>\n",
       "      <td>0</td>\n",
       "      <td>0.806230</td>\n",
       "      <td>9</td>\n",
       "      <td>1949</td>\n",
       "      <td>6</td>\n",
       "      <td>17</td>\n",
       "      <td>2</td>\n",
       "      <td>NOT NAMED</td>\n",
       "      <td>-107.7</td>\n",
       "      <td>14.6</td>\n",
       "      <td>45.0</td>\n",
       "      <td>0</td>\n",
       "      <td>50.0</td>\n",
       "      <td>TS</td>\n",
       "    </tr>\n",
       "    <tr>\n",
       "      <th>9</th>\n",
       "      <td>0</td>\n",
       "      <td>0</td>\n",
       "      <td>0</td>\n",
       "      <td>0</td>\n",
       "      <td>0.894423</td>\n",
       "      <td>10</td>\n",
       "      <td>1949</td>\n",
       "      <td>6</td>\n",
       "      <td>18</td>\n",
       "      <td>2</td>\n",
       "      <td>NOT NAMED</td>\n",
       "      <td>-108.4</td>\n",
       "      <td>15.0</td>\n",
       "      <td>45.0</td>\n",
       "      <td>0</td>\n",
       "      <td>50.0</td>\n",
       "      <td>TS</td>\n",
       "    </tr>\n",
       "  </tbody>\n",
       "</table>\n",
       "</div>"
      ],
      "text/plain": [
       "   FNODE_  TNODE_  LPOLY_  RPOLY_    LENGTH  PHRALLL020  YEAR  MONTH  DAY  \\\n",
       "0       0       0       0       0  0.099999           1  1949      6   11   \n",
       "1       0       0       0       0  0.299995           2  1949      6   11   \n",
       "2       0       0       0       0  1.004990           3  1949      6   11   \n",
       "3       0       0       0       0  0.905540           4  1949      6   11   \n",
       "4       0       0       0       0  0.806229           5  1949      6   12   \n",
       "5       0       0       0       0  0.806221           6  1949      6   12   \n",
       "6       0       0       0       0  0.000107           7  1949      6   12   \n",
       "7       0       0       0       0  0.860230           8  1949      6   17   \n",
       "8       0       0       0       0  0.806230           9  1949      6   17   \n",
       "9       0       0       0       0  0.894423          10  1949      6   18   \n",
       "\n",
       "   BTID       NAME   LONG   LAT  WIND_KTS  PRESSURE  WIND_MPH CATEGORY  \n",
       "0     1  NOT NAMED -106.3  20.2      45.0         0      50.0       TS  \n",
       "1     1  NOT NAMED -106.4  20.2      45.0         0      50.0       TS  \n",
       "2     1  NOT NAMED -106.7  20.2      45.0         0      50.0       TS  \n",
       "3     1  NOT NAMED -107.7  20.3      45.0         0      50.0       TS  \n",
       "4     1  NOT NAMED -108.6  20.4      45.0         0      50.0       TS  \n",
       "5     1  NOT NAMED -109.4  20.5      45.0         0      50.0       TS  \n",
       "6     1  NOT NAMED -110.2  20.6      45.0         0      50.0       TS  \n",
       "7     2  NOT NAMED -107.0  14.1      45.0         0      50.0       TS  \n",
       "8     2  NOT NAMED -107.7  14.6      45.0         0      50.0       TS  \n",
       "9     2  NOT NAMED -108.4  15.0      45.0         0      50.0       TS  "
      ]
     },
     "execution_count": 584,
     "metadata": {},
     "output_type": "execute_result"
    }
   ],
   "source": [
    "# Pacific hurricanes\n",
    "\n",
    "dbf1 = Dbf5('phralll020.dbf')\n",
    "df_Pac = dbf1.to_dataframe()\n",
    "\n",
    "df_Pac.head(10)\n",
    "#df_Pac.tail(20)\n",
    "#df_Pac.info()"
   ]
  },
  {
   "cell_type": "code",
   "execution_count": 585,
   "metadata": {
    "collapsed": false
   },
   "outputs": [
    {
     "data": {
      "text/html": [
       "<div>\n",
       "<table border=\"1\" class=\"dataframe\">\n",
       "  <thead>\n",
       "    <tr style=\"text-align: right;\">\n",
       "      <th></th>\n",
       "      <th>FNODE_</th>\n",
       "      <th>TNODE_</th>\n",
       "      <th>LPOLY_</th>\n",
       "      <th>RPOLY_</th>\n",
       "      <th>LENGTH</th>\n",
       "      <th>HURALLL020</th>\n",
       "      <th>YEAR</th>\n",
       "      <th>MONTH</th>\n",
       "      <th>DAY</th>\n",
       "      <th>BTID</th>\n",
       "      <th>NAME</th>\n",
       "      <th>LONG</th>\n",
       "      <th>LAT</th>\n",
       "      <th>WIND_KTS</th>\n",
       "      <th>PRESSURE</th>\n",
       "      <th>WIND_MPH</th>\n",
       "      <th>CATEGORY</th>\n",
       "    </tr>\n",
       "  </thead>\n",
       "  <tbody>\n",
       "    <tr>\n",
       "      <th>0</th>\n",
       "      <td>0</td>\n",
       "      <td>0</td>\n",
       "      <td>0</td>\n",
       "      <td>0</td>\n",
       "      <td>0.599998</td>\n",
       "      <td>1</td>\n",
       "      <td>1851</td>\n",
       "      <td>6</td>\n",
       "      <td>25</td>\n",
       "      <td>1</td>\n",
       "      <td>NOT NAMED</td>\n",
       "      <td>-94.8</td>\n",
       "      <td>28.0</td>\n",
       "      <td>80.0</td>\n",
       "      <td>0</td>\n",
       "      <td>90.0</td>\n",
       "      <td>H1</td>\n",
       "    </tr>\n",
       "    <tr>\n",
       "      <th>1</th>\n",
       "      <td>0</td>\n",
       "      <td>0</td>\n",
       "      <td>0</td>\n",
       "      <td>0</td>\n",
       "      <td>0.599998</td>\n",
       "      <td>2</td>\n",
       "      <td>1851</td>\n",
       "      <td>6</td>\n",
       "      <td>25</td>\n",
       "      <td>1</td>\n",
       "      <td>NOT NAMED</td>\n",
       "      <td>-95.4</td>\n",
       "      <td>28.0</td>\n",
       "      <td>80.0</td>\n",
       "      <td>0</td>\n",
       "      <td>90.0</td>\n",
       "      <td>H1</td>\n",
       "    </tr>\n",
       "    <tr>\n",
       "      <th>2</th>\n",
       "      <td>0</td>\n",
       "      <td>0</td>\n",
       "      <td>0</td>\n",
       "      <td>0</td>\n",
       "      <td>0.509902</td>\n",
       "      <td>3</td>\n",
       "      <td>1851</td>\n",
       "      <td>6</td>\n",
       "      <td>25</td>\n",
       "      <td>1</td>\n",
       "      <td>NOT NAMED</td>\n",
       "      <td>-96.0</td>\n",
       "      <td>28.0</td>\n",
       "      <td>80.0</td>\n",
       "      <td>0</td>\n",
       "      <td>90.0</td>\n",
       "      <td>H1</td>\n",
       "    </tr>\n",
       "    <tr>\n",
       "      <th>3</th>\n",
       "      <td>0</td>\n",
       "      <td>0</td>\n",
       "      <td>0</td>\n",
       "      <td>0</td>\n",
       "      <td>0.509902</td>\n",
       "      <td>4</td>\n",
       "      <td>1851</td>\n",
       "      <td>6</td>\n",
       "      <td>25</td>\n",
       "      <td>1</td>\n",
       "      <td>NOT NAMED</td>\n",
       "      <td>-96.5</td>\n",
       "      <td>28.1</td>\n",
       "      <td>80.0</td>\n",
       "      <td>0</td>\n",
       "      <td>90.0</td>\n",
       "      <td>H1</td>\n",
       "    </tr>\n",
       "    <tr>\n",
       "      <th>4</th>\n",
       "      <td>0</td>\n",
       "      <td>0</td>\n",
       "      <td>0</td>\n",
       "      <td>0</td>\n",
       "      <td>0.608275</td>\n",
       "      <td>5</td>\n",
       "      <td>1851</td>\n",
       "      <td>6</td>\n",
       "      <td>26</td>\n",
       "      <td>1</td>\n",
       "      <td>NOT NAMED</td>\n",
       "      <td>-97.0</td>\n",
       "      <td>28.2</td>\n",
       "      <td>70.0</td>\n",
       "      <td>0</td>\n",
       "      <td>80.0</td>\n",
       "      <td>H1</td>\n",
       "    </tr>\n",
       "    <tr>\n",
       "      <th>5</th>\n",
       "      <td>0</td>\n",
       "      <td>0</td>\n",
       "      <td>0</td>\n",
       "      <td>0</td>\n",
       "      <td>0.707111</td>\n",
       "      <td>6</td>\n",
       "      <td>1851</td>\n",
       "      <td>6</td>\n",
       "      <td>26</td>\n",
       "      <td>1</td>\n",
       "      <td>NOT NAMED</td>\n",
       "      <td>-97.6</td>\n",
       "      <td>28.3</td>\n",
       "      <td>60.0</td>\n",
       "      <td>0</td>\n",
       "      <td>70.0</td>\n",
       "      <td>TS</td>\n",
       "    </tr>\n",
       "    <tr>\n",
       "      <th>6</th>\n",
       "      <td>0</td>\n",
       "      <td>0</td>\n",
       "      <td>0</td>\n",
       "      <td>0</td>\n",
       "      <td>0.632454</td>\n",
       "      <td>7</td>\n",
       "      <td>1851</td>\n",
       "      <td>6</td>\n",
       "      <td>26</td>\n",
       "      <td>1</td>\n",
       "      <td>NOT NAMED</td>\n",
       "      <td>-98.3</td>\n",
       "      <td>28.4</td>\n",
       "      <td>60.0</td>\n",
       "      <td>0</td>\n",
       "      <td>70.0</td>\n",
       "      <td>TS</td>\n",
       "    </tr>\n",
       "    <tr>\n",
       "      <th>7</th>\n",
       "      <td>0</td>\n",
       "      <td>0</td>\n",
       "      <td>0</td>\n",
       "      <td>0</td>\n",
       "      <td>0.640312</td>\n",
       "      <td>8</td>\n",
       "      <td>1851</td>\n",
       "      <td>6</td>\n",
       "      <td>26</td>\n",
       "      <td>1</td>\n",
       "      <td>NOT NAMED</td>\n",
       "      <td>-98.9</td>\n",
       "      <td>28.6</td>\n",
       "      <td>50.0</td>\n",
       "      <td>0</td>\n",
       "      <td>60.0</td>\n",
       "      <td>TS</td>\n",
       "    </tr>\n",
       "    <tr>\n",
       "      <th>8</th>\n",
       "      <td>0</td>\n",
       "      <td>0</td>\n",
       "      <td>0</td>\n",
       "      <td>0</td>\n",
       "      <td>0.640313</td>\n",
       "      <td>9</td>\n",
       "      <td>1851</td>\n",
       "      <td>6</td>\n",
       "      <td>27</td>\n",
       "      <td>1</td>\n",
       "      <td>NOT NAMED</td>\n",
       "      <td>-99.4</td>\n",
       "      <td>29.0</td>\n",
       "      <td>50.0</td>\n",
       "      <td>0</td>\n",
       "      <td>60.0</td>\n",
       "      <td>TS</td>\n",
       "    </tr>\n",
       "    <tr>\n",
       "      <th>9</th>\n",
       "      <td>0</td>\n",
       "      <td>0</td>\n",
       "      <td>0</td>\n",
       "      <td>0</td>\n",
       "      <td>0.538515</td>\n",
       "      <td>10</td>\n",
       "      <td>1851</td>\n",
       "      <td>6</td>\n",
       "      <td>27</td>\n",
       "      <td>1</td>\n",
       "      <td>NOT NAMED</td>\n",
       "      <td>-99.8</td>\n",
       "      <td>29.5</td>\n",
       "      <td>40.0</td>\n",
       "      <td>0</td>\n",
       "      <td>45.0</td>\n",
       "      <td>TS</td>\n",
       "    </tr>\n",
       "  </tbody>\n",
       "</table>\n",
       "</div>"
      ],
      "text/plain": [
       "   FNODE_  TNODE_  LPOLY_  RPOLY_    LENGTH  HURALLL020  YEAR  MONTH  DAY  \\\n",
       "0       0       0       0       0  0.599998           1  1851      6   25   \n",
       "1       0       0       0       0  0.599998           2  1851      6   25   \n",
       "2       0       0       0       0  0.509902           3  1851      6   25   \n",
       "3       0       0       0       0  0.509902           4  1851      6   25   \n",
       "4       0       0       0       0  0.608275           5  1851      6   26   \n",
       "5       0       0       0       0  0.707111           6  1851      6   26   \n",
       "6       0       0       0       0  0.632454           7  1851      6   26   \n",
       "7       0       0       0       0  0.640312           8  1851      6   26   \n",
       "8       0       0       0       0  0.640313           9  1851      6   27   \n",
       "9       0       0       0       0  0.538515          10  1851      6   27   \n",
       "\n",
       "   BTID       NAME  LONG   LAT  WIND_KTS  PRESSURE  WIND_MPH CATEGORY  \n",
       "0     1  NOT NAMED -94.8  28.0      80.0         0      90.0       H1  \n",
       "1     1  NOT NAMED -95.4  28.0      80.0         0      90.0       H1  \n",
       "2     1  NOT NAMED -96.0  28.0      80.0         0      90.0       H1  \n",
       "3     1  NOT NAMED -96.5  28.1      80.0         0      90.0       H1  \n",
       "4     1  NOT NAMED -97.0  28.2      70.0         0      80.0       H1  \n",
       "5     1  NOT NAMED -97.6  28.3      60.0         0      70.0       TS  \n",
       "6     1  NOT NAMED -98.3  28.4      60.0         0      70.0       TS  \n",
       "7     1  NOT NAMED -98.9  28.6      50.0         0      60.0       TS  \n",
       "8     1  NOT NAMED -99.4  29.0      50.0         0      60.0       TS  \n",
       "9     1  NOT NAMED -99.8  29.5      40.0         0      45.0       TS  "
      ]
     },
     "execution_count": 585,
     "metadata": {},
     "output_type": "execute_result"
    }
   ],
   "source": [
    "# Atlantic hurricanes\n",
    "\n",
    "dbf2 = Dbf5('huralll020.dbf')\n",
    "df_Atl = dbf2.to_dataframe()\n",
    "\n",
    "df_Atl.head(10)\n",
    "#df_Atl.tail(20)\n",
    "#df_Atl.info()"
   ]
  },
  {
   "cell_type": "markdown",
   "metadata": {},
   "source": [
    "Since the hurricanes started receiving names only after 1949, and only after that year the data are more or less accurate, we will limit ourselves to hurricanes that occurred in 1950 or later. If a hurricane after 1949 is still not named, we will remove it from the database as well. "
   ]
  },
  {
   "cell_type": "code",
   "execution_count": 586,
   "metadata": {
    "collapsed": false
   },
   "outputs": [],
   "source": [
    "df_Atl = df_Atl[df_Atl['YEAR'] >= 1950]\n",
    "df_Pac = df_Pac[df_Pac['YEAR'] >= 1950]\n",
    "\n",
    "df_Atl = df_Atl[df_Atl['NAME'] != 'NOT NAMED']\n",
    "df_Pac = df_Pac[df_Pac['NAME'] != 'NOT NAMED']\n",
    "\n",
    "\n",
    "#df_Atl.head(20)\n",
    "#df_Pac.head(20)\n"
   ]
  },
  {
   "cell_type": "markdown",
   "metadata": {},
   "source": [
    "Then, we will limit ourselves only with the storms that can be considered dangerous. We remove from the database the low-pressure systems, named 'SUBTROP', 'SUBTROP 2', 'SUBTROP 3', 'SUBTROP 4', that could not reach the dangerous limit, and consider only the depressions, storms (both subtropical and tropical) and hurricanes of all five categories."
   ]
  },
  {
   "cell_type": "code",
   "execution_count": 587,
   "metadata": {
    "collapsed": false
   },
   "outputs": [
    {
     "data": {
      "text/plain": [
       "array(['TS', 'H1', 'H2', 'H3', 'H4', 'TD', 'H5', 'SD', 'SS'], dtype=object)"
      ]
     },
     "execution_count": 587,
     "metadata": {},
     "output_type": "execute_result"
    }
   ],
   "source": [
    "df_Atl = df_Atl[~df_Atl['NAME'].isin(['SUBTROP', 'SUBTROP 2', 'SUBTROP 3', 'SUBTROP 4'])]\n",
    "\n",
    "df_Atl = df_Atl[df_Atl['CATEGORY'].isin(['TD', 'SD', 'SS', 'TS', 'H1', 'H2', 'H3', 'H4', 'H5'])]\n",
    "df_Pac = df_Pac[df_Pac['CATEGORY'].isin(['TD', 'SD', 'SS', 'TS', 'H1', 'H2', 'H3', 'H4', 'H5'])]\n",
    "\n",
    "\n",
    "df_Pac['CATEGORY'].unique()\n",
    "df_Atl['CATEGORY'].unique()"
   ]
  },
  {
   "cell_type": "markdown",
   "metadata": {},
   "source": [
    "The dataframes df_Atl and df_Pac contain many columns, but we will keep only the columns describing year, month, day, name, longitude of the center, latitude of the center, wind strength and category of each hurricane. "
   ]
  },
  {
   "cell_type": "code",
   "execution_count": 588,
   "metadata": {
    "collapsed": false
   },
   "outputs": [
    {
     "data": {
      "text/html": [
       "<div>\n",
       "<table border=\"1\" class=\"dataframe\">\n",
       "  <thead>\n",
       "    <tr style=\"text-align: right;\">\n",
       "      <th></th>\n",
       "      <th>YEAR</th>\n",
       "      <th>MONTH</th>\n",
       "      <th>DAY</th>\n",
       "      <th>NAME</th>\n",
       "      <th>LONG</th>\n",
       "      <th>LAT</th>\n",
       "      <th>WIND_MPH</th>\n",
       "      <th>CATEGORY</th>\n",
       "    </tr>\n",
       "  </thead>\n",
       "  <tbody>\n",
       "    <tr>\n",
       "      <th>129</th>\n",
       "      <td>1950</td>\n",
       "      <td>8</td>\n",
       "      <td>12</td>\n",
       "      <td>HIKI</td>\n",
       "      <td>-144.5</td>\n",
       "      <td>14.5</td>\n",
       "      <td>30.0</td>\n",
       "      <td>TD</td>\n",
       "    </tr>\n",
       "    <tr>\n",
       "      <th>130</th>\n",
       "      <td>1950</td>\n",
       "      <td>8</td>\n",
       "      <td>12</td>\n",
       "      <td>HIKI</td>\n",
       "      <td>-144.8</td>\n",
       "      <td>14.9</td>\n",
       "      <td>30.0</td>\n",
       "      <td>TD</td>\n",
       "    </tr>\n",
       "    <tr>\n",
       "      <th>131</th>\n",
       "      <td>1950</td>\n",
       "      <td>8</td>\n",
       "      <td>12</td>\n",
       "      <td>HIKI</td>\n",
       "      <td>-145.2</td>\n",
       "      <td>15.2</td>\n",
       "      <td>30.0</td>\n",
       "      <td>TD</td>\n",
       "    </tr>\n",
       "    <tr>\n",
       "      <th>132</th>\n",
       "      <td>1950</td>\n",
       "      <td>8</td>\n",
       "      <td>12</td>\n",
       "      <td>HIKI</td>\n",
       "      <td>-145.6</td>\n",
       "      <td>15.5</td>\n",
       "      <td>30.0</td>\n",
       "      <td>TD</td>\n",
       "    </tr>\n",
       "    <tr>\n",
       "      <th>133</th>\n",
       "      <td>1950</td>\n",
       "      <td>8</td>\n",
       "      <td>13</td>\n",
       "      <td>HIKI</td>\n",
       "      <td>-145.8</td>\n",
       "      <td>15.7</td>\n",
       "      <td>30.0</td>\n",
       "      <td>TD</td>\n",
       "    </tr>\n",
       "    <tr>\n",
       "      <th>134</th>\n",
       "      <td>1950</td>\n",
       "      <td>8</td>\n",
       "      <td>13</td>\n",
       "      <td>HIKI</td>\n",
       "      <td>-146.3</td>\n",
       "      <td>15.9</td>\n",
       "      <td>50.0</td>\n",
       "      <td>TS</td>\n",
       "    </tr>\n",
       "    <tr>\n",
       "      <th>135</th>\n",
       "      <td>1950</td>\n",
       "      <td>8</td>\n",
       "      <td>13</td>\n",
       "      <td>HIKI</td>\n",
       "      <td>-146.9</td>\n",
       "      <td>16.3</td>\n",
       "      <td>50.0</td>\n",
       "      <td>TS</td>\n",
       "    </tr>\n",
       "    <tr>\n",
       "      <th>136</th>\n",
       "      <td>1950</td>\n",
       "      <td>8</td>\n",
       "      <td>13</td>\n",
       "      <td>HIKI</td>\n",
       "      <td>-147.6</td>\n",
       "      <td>16.6</td>\n",
       "      <td>50.0</td>\n",
       "      <td>TS</td>\n",
       "    </tr>\n",
       "    <tr>\n",
       "      <th>137</th>\n",
       "      <td>1950</td>\n",
       "      <td>8</td>\n",
       "      <td>14</td>\n",
       "      <td>HIKI</td>\n",
       "      <td>-148.1</td>\n",
       "      <td>16.8</td>\n",
       "      <td>50.0</td>\n",
       "      <td>TS</td>\n",
       "    </tr>\n",
       "    <tr>\n",
       "      <th>138</th>\n",
       "      <td>1950</td>\n",
       "      <td>8</td>\n",
       "      <td>14</td>\n",
       "      <td>HIKI</td>\n",
       "      <td>-149.1</td>\n",
       "      <td>17.5</td>\n",
       "      <td>50.0</td>\n",
       "      <td>TS</td>\n",
       "    </tr>\n",
       "  </tbody>\n",
       "</table>\n",
       "</div>"
      ],
      "text/plain": [
       "     YEAR  MONTH  DAY  NAME   LONG   LAT  WIND_MPH CATEGORY\n",
       "129  1950      8   12  HIKI -144.5  14.5      30.0       TD\n",
       "130  1950      8   12  HIKI -144.8  14.9      30.0       TD\n",
       "131  1950      8   12  HIKI -145.2  15.2      30.0       TD\n",
       "132  1950      8   12  HIKI -145.6  15.5      30.0       TD\n",
       "133  1950      8   13  HIKI -145.8  15.7      30.0       TD\n",
       "134  1950      8   13  HIKI -146.3  15.9      50.0       TS\n",
       "135  1950      8   13  HIKI -146.9  16.3      50.0       TS\n",
       "136  1950      8   13  HIKI -147.6  16.6      50.0       TS\n",
       "137  1950      8   14  HIKI -148.1  16.8      50.0       TS\n",
       "138  1950      8   14  HIKI -149.1  17.5      50.0       TS"
      ]
     },
     "execution_count": 588,
     "metadata": {},
     "output_type": "execute_result"
    }
   ],
   "source": [
    "df_Atl = df_Atl[['YEAR', 'MONTH', 'DAY', 'NAME', 'LONG', 'LAT', 'WIND_MPH', 'CATEGORY']]\n",
    "df_Pac = df_Pac[['YEAR', 'MONTH', 'DAY', 'NAME', 'LONG', 'LAT', 'WIND_MPH', 'CATEGORY']]\n",
    "\n",
    "#df_Atl.info()\n",
    "#df_Pac.info()\n",
    "\n",
    "df_Atl.head(10)\n",
    "df_Pac.head(10)\n"
   ]
  },
  {
   "cell_type": "markdown",
   "metadata": {},
   "source": [
    "We will also change the units of measurements for wind strength from mph to kmph and rename the column accordingly."
   ]
  },
  {
   "cell_type": "code",
   "execution_count": 589,
   "metadata": {
    "collapsed": false
   },
   "outputs": [
    {
     "data": {
      "text/html": [
       "<div>\n",
       "<table border=\"1\" class=\"dataframe\">\n",
       "  <thead>\n",
       "    <tr style=\"text-align: right;\">\n",
       "      <th></th>\n",
       "      <th>YEAR</th>\n",
       "      <th>MONTH</th>\n",
       "      <th>DAY</th>\n",
       "      <th>NAME</th>\n",
       "      <th>LONG</th>\n",
       "      <th>LAT</th>\n",
       "      <th>WIND_KMPH</th>\n",
       "      <th>CATEGORY</th>\n",
       "    </tr>\n",
       "  </thead>\n",
       "  <tbody>\n",
       "    <tr>\n",
       "      <th>19969</th>\n",
       "      <td>1950</td>\n",
       "      <td>8</td>\n",
       "      <td>12</td>\n",
       "      <td>ABLE</td>\n",
       "      <td>-54.5</td>\n",
       "      <td>16.5</td>\n",
       "      <td>64.3736</td>\n",
       "      <td>TS</td>\n",
       "    </tr>\n",
       "    <tr>\n",
       "      <th>19970</th>\n",
       "      <td>1950</td>\n",
       "      <td>8</td>\n",
       "      <td>12</td>\n",
       "      <td>ABLE</td>\n",
       "      <td>-55.5</td>\n",
       "      <td>17.1</td>\n",
       "      <td>72.4203</td>\n",
       "      <td>TS</td>\n",
       "    </tr>\n",
       "    <tr>\n",
       "      <th>19971</th>\n",
       "      <td>1950</td>\n",
       "      <td>8</td>\n",
       "      <td>12</td>\n",
       "      <td>ABLE</td>\n",
       "      <td>-57.0</td>\n",
       "      <td>17.7</td>\n",
       "      <td>80.4670</td>\n",
       "      <td>TS</td>\n",
       "    </tr>\n",
       "    <tr>\n",
       "      <th>19972</th>\n",
       "      <td>1950</td>\n",
       "      <td>8</td>\n",
       "      <td>12</td>\n",
       "      <td>ABLE</td>\n",
       "      <td>-58.3</td>\n",
       "      <td>18.4</td>\n",
       "      <td>96.5604</td>\n",
       "      <td>TS</td>\n",
       "    </tr>\n",
       "    <tr>\n",
       "      <th>19973</th>\n",
       "      <td>1950</td>\n",
       "      <td>8</td>\n",
       "      <td>13</td>\n",
       "      <td>ABLE</td>\n",
       "      <td>-59.5</td>\n",
       "      <td>19.1</td>\n",
       "      <td>96.5604</td>\n",
       "      <td>TS</td>\n",
       "    </tr>\n",
       "  </tbody>\n",
       "</table>\n",
       "</div>"
      ],
      "text/plain": [
       "       YEAR  MONTH  DAY  NAME  LONG   LAT  WIND_KMPH CATEGORY\n",
       "19969  1950      8   12  ABLE -54.5  16.5    64.3736       TS\n",
       "19970  1950      8   12  ABLE -55.5  17.1    72.4203       TS\n",
       "19971  1950      8   12  ABLE -57.0  17.7    80.4670       TS\n",
       "19972  1950      8   12  ABLE -58.3  18.4    96.5604       TS\n",
       "19973  1950      8   13  ABLE -59.5  19.1    96.5604       TS"
      ]
     },
     "execution_count": 589,
     "metadata": {},
     "output_type": "execute_result"
    }
   ],
   "source": [
    "def mph_to_kmph(series):\n",
    "    return series*1.60934\n",
    "\n",
    "df_Pac['WIND_MPH'] = df_Pac['WIND_MPH'].apply(mph_to_kmph)\n",
    "df_Pac  = df_Pac.rename(columns = {'WIND_MPH':'WIND_KMPH'})\n",
    "\n",
    "df_Atl['WIND_MPH'] = df_Atl['WIND_MPH'].apply(mph_to_kmph)\n",
    "df_Atl  = df_Atl.rename(columns = {'WIND_MPH':'WIND_KMPH'})\n",
    "\n",
    "#df_Pac.head()\n",
    "df_Atl.head()"
   ]
  },
  {
   "cell_type": "markdown",
   "metadata": {},
   "source": [
    "It is convenient to assign an integer number ranging from 1 to 7 to each category of a hurricane based on its strength. \n",
    "The weakest low pressure system, depression, is given 1, while the strongest one, category five hurricane, is assigned 7. \n",
    "The new column is called 'EFFECTIVE STRENGTH'."
   ]
  },
  {
   "cell_type": "code",
   "execution_count": 590,
   "metadata": {
    "collapsed": false,
    "scrolled": true
   },
   "outputs": [
    {
     "data": {
      "text/html": [
       "<div>\n",
       "<table border=\"1\" class=\"dataframe\">\n",
       "  <thead>\n",
       "    <tr style=\"text-align: right;\">\n",
       "      <th></th>\n",
       "      <th>YEAR</th>\n",
       "      <th>MONTH</th>\n",
       "      <th>DAY</th>\n",
       "      <th>NAME</th>\n",
       "      <th>LONG</th>\n",
       "      <th>LAT</th>\n",
       "      <th>WIND_KMPH</th>\n",
       "      <th>CATEGORY</th>\n",
       "      <th>EFFECTIVE STRENGTH</th>\n",
       "    </tr>\n",
       "  </thead>\n",
       "  <tbody>\n",
       "    <tr>\n",
       "      <th>19969</th>\n",
       "      <td>1950</td>\n",
       "      <td>8</td>\n",
       "      <td>12</td>\n",
       "      <td>ABLE</td>\n",
       "      <td>-54.5</td>\n",
       "      <td>16.5</td>\n",
       "      <td>64.3736</td>\n",
       "      <td>TS</td>\n",
       "      <td>2</td>\n",
       "    </tr>\n",
       "    <tr>\n",
       "      <th>19970</th>\n",
       "      <td>1950</td>\n",
       "      <td>8</td>\n",
       "      <td>12</td>\n",
       "      <td>ABLE</td>\n",
       "      <td>-55.5</td>\n",
       "      <td>17.1</td>\n",
       "      <td>72.4203</td>\n",
       "      <td>TS</td>\n",
       "      <td>2</td>\n",
       "    </tr>\n",
       "    <tr>\n",
       "      <th>19971</th>\n",
       "      <td>1950</td>\n",
       "      <td>8</td>\n",
       "      <td>12</td>\n",
       "      <td>ABLE</td>\n",
       "      <td>-57.0</td>\n",
       "      <td>17.7</td>\n",
       "      <td>80.4670</td>\n",
       "      <td>TS</td>\n",
       "      <td>2</td>\n",
       "    </tr>\n",
       "    <tr>\n",
       "      <th>19972</th>\n",
       "      <td>1950</td>\n",
       "      <td>8</td>\n",
       "      <td>12</td>\n",
       "      <td>ABLE</td>\n",
       "      <td>-58.3</td>\n",
       "      <td>18.4</td>\n",
       "      <td>96.5604</td>\n",
       "      <td>TS</td>\n",
       "      <td>2</td>\n",
       "    </tr>\n",
       "    <tr>\n",
       "      <th>19973</th>\n",
       "      <td>1950</td>\n",
       "      <td>8</td>\n",
       "      <td>13</td>\n",
       "      <td>ABLE</td>\n",
       "      <td>-59.5</td>\n",
       "      <td>19.1</td>\n",
       "      <td>96.5604</td>\n",
       "      <td>TS</td>\n",
       "      <td>2</td>\n",
       "    </tr>\n",
       "    <tr>\n",
       "      <th>19974</th>\n",
       "      <td>1950</td>\n",
       "      <td>8</td>\n",
       "      <td>13</td>\n",
       "      <td>ABLE</td>\n",
       "      <td>-61.1</td>\n",
       "      <td>20.1</td>\n",
       "      <td>104.6071</td>\n",
       "      <td>TS</td>\n",
       "      <td>2</td>\n",
       "    </tr>\n",
       "    <tr>\n",
       "      <th>19975</th>\n",
       "      <td>1950</td>\n",
       "      <td>8</td>\n",
       "      <td>13</td>\n",
       "      <td>ABLE</td>\n",
       "      <td>-62.5</td>\n",
       "      <td>21.0</td>\n",
       "      <td>120.7005</td>\n",
       "      <td>H1</td>\n",
       "      <td>3</td>\n",
       "    </tr>\n",
       "    <tr>\n",
       "      <th>19976</th>\n",
       "      <td>1950</td>\n",
       "      <td>8</td>\n",
       "      <td>13</td>\n",
       "      <td>ABLE</td>\n",
       "      <td>-63.2</td>\n",
       "      <td>21.6</td>\n",
       "      <td>128.7472</td>\n",
       "      <td>H1</td>\n",
       "      <td>3</td>\n",
       "    </tr>\n",
       "    <tr>\n",
       "      <th>19977</th>\n",
       "      <td>1950</td>\n",
       "      <td>8</td>\n",
       "      <td>14</td>\n",
       "      <td>ABLE</td>\n",
       "      <td>-63.7</td>\n",
       "      <td>22.2</td>\n",
       "      <td>128.7472</td>\n",
       "      <td>H1</td>\n",
       "      <td>3</td>\n",
       "    </tr>\n",
       "    <tr>\n",
       "      <th>19978</th>\n",
       "      <td>1950</td>\n",
       "      <td>8</td>\n",
       "      <td>14</td>\n",
       "      <td>ABLE</td>\n",
       "      <td>-64.6</td>\n",
       "      <td>23.0</td>\n",
       "      <td>128.7472</td>\n",
       "      <td>H1</td>\n",
       "      <td>3</td>\n",
       "    </tr>\n",
       "  </tbody>\n",
       "</table>\n",
       "</div>"
      ],
      "text/plain": [
       "       YEAR  MONTH  DAY  NAME  LONG   LAT  WIND_KMPH CATEGORY  \\\n",
       "19969  1950      8   12  ABLE -54.5  16.5    64.3736       TS   \n",
       "19970  1950      8   12  ABLE -55.5  17.1    72.4203       TS   \n",
       "19971  1950      8   12  ABLE -57.0  17.7    80.4670       TS   \n",
       "19972  1950      8   12  ABLE -58.3  18.4    96.5604       TS   \n",
       "19973  1950      8   13  ABLE -59.5  19.1    96.5604       TS   \n",
       "19974  1950      8   13  ABLE -61.1  20.1   104.6071       TS   \n",
       "19975  1950      8   13  ABLE -62.5  21.0   120.7005       H1   \n",
       "19976  1950      8   13  ABLE -63.2  21.6   128.7472       H1   \n",
       "19977  1950      8   14  ABLE -63.7  22.2   128.7472       H1   \n",
       "19978  1950      8   14  ABLE -64.6  23.0   128.7472       H1   \n",
       "\n",
       "       EFFECTIVE STRENGTH  \n",
       "19969                   2  \n",
       "19970                   2  \n",
       "19971                   2  \n",
       "19972                   2  \n",
       "19973                   2  \n",
       "19974                   2  \n",
       "19975                   3  \n",
       "19976                   3  \n",
       "19977                   3  \n",
       "19978                   3  "
      ]
     },
     "execution_count": 590,
     "metadata": {},
     "output_type": "execute_result"
    }
   ],
   "source": [
    "# Create a dictionary assigning a number from 0 to 6 to each category based on the strength of a hurricane\n",
    "\n",
    "categ_dict = {'SD':1, 'TD':1, 'SS':2, 'TS':2, 'H1':3, 'H2':4, 'H3':5, 'H4':6, 'H5':7}\n",
    "\n",
    "\n",
    "# Create a new column 'EFFECTIVE STRENGTH' that contains the number assigned to each category\n",
    "\n",
    "df_Atl['EFFECTIVE STRENGTH'] = df_Atl['CATEGORY'].map(categ_dict)\n",
    "df_Pac['EFFECTIVE STRENGTH'] = df_Pac['CATEGORY'].map(categ_dict)\n",
    "\n",
    "df_Pac.tail(10)\n",
    "df_Atl.head(10)"
   ]
  },
  {
   "cell_type": "markdown",
   "metadata": {},
   "source": [
    "For the future analysis, we will create a table that contains: 1) the first longitude and latitude when hurricane is dangerous, 2) the last longitude or latitude when hurricane is still dangerous (or before making a landfall), 3) the total time travelled in hours, 4) the total distance travelled (in km), 5) the average wind strength, 6) the maximum effective strength and 7) the average effective strength (with respect to maximal) when it is still dangerous. We first define the auxiliary functions that help to compute us 1) through 4). The total distance is calculated using the Haversine formula from the imported gpxy module, while the total number of hours is computed by taking the number of entries for a given hurricane and multiplying by 6 hrs. "
   ]
  },
  {
   "cell_type": "code",
   "execution_count": 591,
   "metadata": {
    "collapsed": false,
    "scrolled": true
   },
   "outputs": [],
   "source": [
    "\n",
    "# returns the first longitude or latitude when hurricane is dangerous \n",
    "def first(series):\n",
    "    return series.iloc[0]\n",
    "\n",
    "# returns the last longitude or latitude when hurricane is still dangerous \n",
    "def last(series):\n",
    "    return series.iloc[-1]\n",
    "\n",
    "\n",
    "# returns the approximate total time travelled by a hurricane (in hours) when it is still dangerous\n",
    "def time_travelled(series):\n",
    "    return 6.0*len(series)\n",
    "\n",
    "# returns the approximate distance travelled (in km) using Haversine formula\n",
    "def dist_travelled(gr):\n",
    "    dist = 0\n",
    "    for i in range(len(gr['LAT'])-1):\n",
    "        dist += gpxpy.geo.haversine_distance(gr['LAT'].iloc[i], gr['LONG'].iloc[i], gr['LAT'].iloc[i+1], \n",
    "                                             gr['LONG'].iloc[i+1])\n",
    "    return dist/1000   \n",
    "\n",
    "\n"
   ]
  },
  {
   "cell_type": "markdown",
   "metadata": {},
   "source": [
    "After that we use the combination of groupby and merging technique to create the new table containing the aforementioned information for both Pacific and Atlantic hurricanes. The new data frame for Atlantic hurricanes contains 527 rows, while\n",
    "the data frame for Pacific hurricanes 679 rows."
   ]
  },
  {
   "cell_type": "code",
   "execution_count": 592,
   "metadata": {
    "collapsed": false
   },
   "outputs": [
    {
     "data": {
      "text/html": [
       "<div>\n",
       "<table border=\"1\" class=\"dataframe\">\n",
       "  <thead>\n",
       "    <tr style=\"text-align: right;\">\n",
       "      <th></th>\n",
       "      <th>YEAR</th>\n",
       "      <th>NAME</th>\n",
       "      <th>FIRST LONG</th>\n",
       "      <th>FIRST LAT</th>\n",
       "      <th>LAST LONG</th>\n",
       "      <th>LAST LAT</th>\n",
       "      <th>DISTANCE TRAVELLED(KM)</th>\n",
       "      <th>TIME TRAVELLED(HRS)</th>\n",
       "      <th>AVERAGE WIND STRENGTH(KMPH)</th>\n",
       "      <th>MAXIMUM EFFECTIVE STRENGTH</th>\n",
       "      <th>AVERAGE STRENGTH WRT MAXIMAL</th>\n",
       "    </tr>\n",
       "  </thead>\n",
       "  <tbody>\n",
       "    <tr>\n",
       "      <th>0</th>\n",
       "      <td>1950</td>\n",
       "      <td>ABLE</td>\n",
       "      <td>-54.5</td>\n",
       "      <td>16.5</td>\n",
       "      <td>-50.7</td>\n",
       "      <td>53.6</td>\n",
       "      <td>6235.232439</td>\n",
       "      <td>264</td>\n",
       "      <td>149.046830</td>\n",
       "      <td>6</td>\n",
       "      <td>0.617424</td>\n",
       "    </tr>\n",
       "    <tr>\n",
       "      <th>1</th>\n",
       "      <td>1950</td>\n",
       "      <td>BAKER</td>\n",
       "      <td>-55.0</td>\n",
       "      <td>16.3</td>\n",
       "      <td>-89.9</td>\n",
       "      <td>37.0</td>\n",
       "      <td>5214.709501</td>\n",
       "      <td>306</td>\n",
       "      <td>102.555980</td>\n",
       "      <td>5</td>\n",
       "      <td>0.470588</td>\n",
       "    </tr>\n",
       "    <tr>\n",
       "      <th>2</th>\n",
       "      <td>1950</td>\n",
       "      <td>CHARLIE</td>\n",
       "      <td>-24.0</td>\n",
       "      <td>13.1</td>\n",
       "      <td>-58.1</td>\n",
       "      <td>38.4</td>\n",
       "      <td>6707.753820</td>\n",
       "      <td>348</td>\n",
       "      <td>118.896929</td>\n",
       "      <td>5</td>\n",
       "      <td>0.586207</td>\n",
       "    </tr>\n",
       "    <tr>\n",
       "      <th>3</th>\n",
       "      <td>1950</td>\n",
       "      <td>DOG</td>\n",
       "      <td>-55.3</td>\n",
       "      <td>15.2</td>\n",
       "      <td>-70.6</td>\n",
       "      <td>39.3</td>\n",
       "      <td>3900.519360</td>\n",
       "      <td>300</td>\n",
       "      <td>200.201896</td>\n",
       "      <td>7</td>\n",
       "      <td>0.705714</td>\n",
       "    </tr>\n",
       "    <tr>\n",
       "      <th>4</th>\n",
       "      <td>1950</td>\n",
       "      <td>EASY</td>\n",
       "      <td>-84.1</td>\n",
       "      <td>19.1</td>\n",
       "      <td>-90.2</td>\n",
       "      <td>35.9</td>\n",
       "      <td>2735.355281</td>\n",
       "      <td>210</td>\n",
       "      <td>112.193989</td>\n",
       "      <td>5</td>\n",
       "      <td>0.531429</td>\n",
       "    </tr>\n",
       "  </tbody>\n",
       "</table>\n",
       "</div>"
      ],
      "text/plain": [
       "   YEAR     NAME  FIRST LONG  FIRST LAT  LAST LONG  LAST LAT  \\\n",
       "0  1950     ABLE       -54.5       16.5      -50.7      53.6   \n",
       "1  1950    BAKER       -55.0       16.3      -89.9      37.0   \n",
       "2  1950  CHARLIE       -24.0       13.1      -58.1      38.4   \n",
       "3  1950      DOG       -55.3       15.2      -70.6      39.3   \n",
       "4  1950     EASY       -84.1       19.1      -90.2      35.9   \n",
       "\n",
       "   DISTANCE TRAVELLED(KM)  TIME TRAVELLED(HRS)  AVERAGE WIND STRENGTH(KMPH)  \\\n",
       "0             6235.232439                  264                   149.046830   \n",
       "1             5214.709501                  306                   102.555980   \n",
       "2             6707.753820                  348                   118.896929   \n",
       "3             3900.519360                  300                   200.201896   \n",
       "4             2735.355281                  210                   112.193989   \n",
       "\n",
       "   MAXIMUM EFFECTIVE STRENGTH  AVERAGE STRENGTH WRT MAXIMAL  \n",
       "0                           6                      0.617424  \n",
       "1                           5                      0.470588  \n",
       "2                           5                      0.586207  \n",
       "3                           7                      0.705714  \n",
       "4                           5                      0.531429  "
      ]
     },
     "execution_count": 592,
     "metadata": {},
     "output_type": "execute_result"
    }
   ],
   "source": [
    "df_Atl_aux1 = pd.DataFrame(df_Atl.groupby(['YEAR', 'NAME'])['LONG', 'LAT'].agg({'LONG':first, \n",
    "         'LAT':first})).rename( columns={'LONG': 'FIRST LONG', 'LAT': 'FIRST LAT'}).reset_index()\n",
    "\n",
    "df_Atl_aux2 = pd.DataFrame(df_Atl.groupby(['YEAR', 'NAME'])['LONG', 'LAT'].agg({'LONG':last, \n",
    "         'LAT':last})).rename( columns={'LONG': 'LAST LONG', 'LAT': 'LAST LAT'}).reset_index()\n",
    "\n",
    "df_Atl_aux3 = pd.DataFrame(df_Atl.groupby(['YEAR', 'NAME'])['DAY', 'WIND_KMPH', 'EFFECTIVE STRENGTH'].\\\n",
    "         agg({'DAY':time_travelled, 'WIND_KMPH':'mean', 'EFFECTIVE STRENGTH':'max'}))  \\\n",
    "        .rename( columns={'DAY': 'TIME TRAVELLED(HRS)', 'WIND_KMPH':'AVERAGE WIND STRENGTH(KMPH)', \\\n",
    "                          'EFFECTIVE STRENGTH': 'MAXIMUM EFFECTIVE STRENGTH'}).reset_index()\n",
    "\n",
    "df_Atl_aux4 = pd.DataFrame({'DISTANCE TRAVELLED(KM)': df_Atl.groupby(['YEAR', 'NAME']).apply(dist_travelled)}).reset_index()\n",
    "\n",
    "df_Atl_aux5 = pd.merge(df_Atl_aux1, df_Atl_aux2, on = ['YEAR', 'NAME'])\n",
    "\n",
    "df_Atl_aux6 = pd.merge(df_Atl_aux4, df_Atl_aux3, on = ['YEAR', 'NAME'])\n",
    "\n",
    "df_Atl_n = pd.merge(df_Atl_aux5, df_Atl_aux6, on = ['YEAR', 'NAME'])\n",
    "\n",
    "df_Atl_aux7 = pd.DataFrame({'AVERAGE STRENGTH WRT MAXIMAL': df_Atl.groupby(['YEAR', 'NAME']) \\\n",
    "                            ['EFFECTIVE STRENGTH'].mean()}).reset_index()\n",
    "\n",
    "                            \n",
    "df_Atl_new = pd.merge(df_Atl_n, df_Atl_aux7, on = ['YEAR', 'NAME'])\n",
    "\n",
    "df_Atl_new['AVERAGE STRENGTH WRT MAXIMAL'] = df_Atl_new.apply(lambda row: row['AVERAGE STRENGTH WRT MAXIMAL'] /\n",
    "                                                    row['MAXIMUM EFFECTIVE STRENGTH'], axis =1)\n",
    "\n",
    "df_Atl_new.head()"
   ]
  },
  {
   "cell_type": "code",
   "execution_count": 593,
   "metadata": {
    "collapsed": false,
    "scrolled": true
   },
   "outputs": [
    {
     "data": {
      "text/html": [
       "<div>\n",
       "<table border=\"1\" class=\"dataframe\">\n",
       "  <thead>\n",
       "    <tr style=\"text-align: right;\">\n",
       "      <th></th>\n",
       "      <th>YEAR</th>\n",
       "      <th>NAME</th>\n",
       "      <th>FIRST LONG</th>\n",
       "      <th>FIRST LAT</th>\n",
       "      <th>LAST LONG</th>\n",
       "      <th>LAST LAT</th>\n",
       "      <th>DISTANCE TRAVELLED(KM)</th>\n",
       "      <th>TIME TRAVELLED(HRS)</th>\n",
       "      <th>AVERAGE WIND STRENGTH(KMPH)</th>\n",
       "      <th>MAXIMUM EFFECTIVE STRENGTH</th>\n",
       "      <th>AVERAGE STRENGTH WRT MAXIMAL</th>\n",
       "    </tr>\n",
       "  </thead>\n",
       "  <tbody>\n",
       "    <tr>\n",
       "      <th>0</th>\n",
       "      <td>1950</td>\n",
       "      <td>HIKI</td>\n",
       "      <td>-144.5</td>\n",
       "      <td>14.5</td>\n",
       "      <td>-178.0</td>\n",
       "      <td>27.4</td>\n",
       "      <td>4042.790225</td>\n",
       "      <td>234</td>\n",
       "      <td>97.179377</td>\n",
       "      <td>3</td>\n",
       "      <td>0.743590</td>\n",
       "    </tr>\n",
       "    <tr>\n",
       "      <th>1</th>\n",
       "      <td>1957</td>\n",
       "      <td>DELLA</td>\n",
       "      <td>-149.6</td>\n",
       "      <td>15.0</td>\n",
       "      <td>163.5</td>\n",
       "      <td>24.8</td>\n",
       "      <td>5609.392990</td>\n",
       "      <td>294</td>\n",
       "      <td>133.837969</td>\n",
       "      <td>5</td>\n",
       "      <td>0.636735</td>\n",
       "    </tr>\n",
       "    <tr>\n",
       "      <th>2</th>\n",
       "      <td>1957</td>\n",
       "      <td>KANOA</td>\n",
       "      <td>-108.2</td>\n",
       "      <td>11.9</td>\n",
       "      <td>-154.0</td>\n",
       "      <td>19.7</td>\n",
       "      <td>5041.538137</td>\n",
       "      <td>270</td>\n",
       "      <td>136.793900</td>\n",
       "      <td>3</td>\n",
       "      <td>1.000000</td>\n",
       "    </tr>\n",
       "    <tr>\n",
       "      <th>3</th>\n",
       "      <td>1957</td>\n",
       "      <td>NINA</td>\n",
       "      <td>-162.5</td>\n",
       "      <td>11.7</td>\n",
       "      <td>-173.3</td>\n",
       "      <td>17.7</td>\n",
       "      <td>2637.732151</td>\n",
       "      <td>186</td>\n",
       "      <td>123.036639</td>\n",
       "      <td>3</td>\n",
       "      <td>0.913978</td>\n",
       "    </tr>\n",
       "    <tr>\n",
       "      <th>4</th>\n",
       "      <td>1959</td>\n",
       "      <td>DOT</td>\n",
       "      <td>-141.2</td>\n",
       "      <td>15.7</td>\n",
       "      <td>-163.0</td>\n",
       "      <td>23.2</td>\n",
       "      <td>2712.404781</td>\n",
       "      <td>162</td>\n",
       "      <td>181.497789</td>\n",
       "      <td>6</td>\n",
       "      <td>0.777778</td>\n",
       "    </tr>\n",
       "  </tbody>\n",
       "</table>\n",
       "</div>"
      ],
      "text/plain": [
       "   YEAR   NAME  FIRST LONG  FIRST LAT  LAST LONG  LAST LAT  \\\n",
       "0  1950   HIKI      -144.5       14.5     -178.0      27.4   \n",
       "1  1957  DELLA      -149.6       15.0      163.5      24.8   \n",
       "2  1957  KANOA      -108.2       11.9     -154.0      19.7   \n",
       "3  1957   NINA      -162.5       11.7     -173.3      17.7   \n",
       "4  1959    DOT      -141.2       15.7     -163.0      23.2   \n",
       "\n",
       "   DISTANCE TRAVELLED(KM)  TIME TRAVELLED(HRS)  AVERAGE WIND STRENGTH(KMPH)  \\\n",
       "0             4042.790225                  234                    97.179377   \n",
       "1             5609.392990                  294                   133.837969   \n",
       "2             5041.538137                  270                   136.793900   \n",
       "3             2637.732151                  186                   123.036639   \n",
       "4             2712.404781                  162                   181.497789   \n",
       "\n",
       "   MAXIMUM EFFECTIVE STRENGTH  AVERAGE STRENGTH WRT MAXIMAL  \n",
       "0                           3                      0.743590  \n",
       "1                           5                      0.636735  \n",
       "2                           3                      1.000000  \n",
       "3                           3                      0.913978  \n",
       "4                           6                      0.777778  "
      ]
     },
     "execution_count": 593,
     "metadata": {},
     "output_type": "execute_result"
    }
   ],
   "source": [
    "df_Pac_aux1 = pd.DataFrame(df_Pac.groupby(['YEAR', 'NAME'])['LONG', 'LAT'].agg({'LONG':first, \n",
    "         'LAT':first})).rename( columns={'LONG': 'FIRST LONG', 'LAT': 'FIRST LAT'}).reset_index()\n",
    "\n",
    "df_Pac_aux2 = pd.DataFrame(df_Pac.groupby(['YEAR', 'NAME'])['LONG', 'LAT'].agg({'LONG':last, \n",
    "         'LAT':last})).rename( columns={'LONG': 'LAST LONG', 'LAT': 'LAST LAT'}).reset_index()\n",
    "\n",
    "df_Pac_aux3 = pd.DataFrame(df_Pac.groupby(['YEAR', 'NAME'])['DAY', 'WIND_KMPH', 'EFFECTIVE STRENGTH'].\\\n",
    "         agg({'DAY':time_travelled, 'WIND_KMPH':'mean', 'EFFECTIVE STRENGTH': 'max'}))  \\\n",
    "        .rename( columns={'DAY': 'TIME TRAVELLED(HRS)', 'WIND_KMPH':'AVERAGE WIND STRENGTH(KMPH)', \\\n",
    "                          'EFFECTIVE STRENGTH': 'MAXIMUM EFFECTIVE STRENGTH'}).reset_index()\n",
    "\n",
    "df_Pac_aux4 = pd.DataFrame({'DISTANCE TRAVELLED(KM)': df_Pac.groupby(['YEAR', 'NAME']).apply(dist_travelled)}).reset_index()\n",
    "\n",
    "df_Pac_aux5 = pd.merge(df_Pac_aux1, df_Pac_aux2, on = ['YEAR', 'NAME'])\n",
    "\n",
    "df_Pac_aux6 = pd.merge(df_Pac_aux4, df_Pac_aux3, on = ['YEAR', 'NAME']) \n",
    "\n",
    "df_Pac_n = pd.merge(df_Pac_aux5, df_Pac_aux6, on = ['YEAR', 'NAME'])\n",
    "\n",
    "df_Pac_aux7 = pd.DataFrame({'AVERAGE STRENGTH WRT MAXIMAL': df_Pac.groupby(['YEAR', 'NAME']) \\\n",
    "                            ['EFFECTIVE STRENGTH'].mean()}).reset_index()\n",
    "\n",
    "                            \n",
    "df_Pac_new = pd.merge(df_Pac_n, df_Pac_aux7, on = ['YEAR', 'NAME'])\n",
    "\n",
    "df_Pac_new['AVERAGE STRENGTH WRT MAXIMAL'] = df_Pac_new.apply(lambda row: row['AVERAGE STRENGTH WRT MAXIMAL'] /\n",
    "                                                    row['MAXIMUM EFFECTIVE STRENGTH'], axis =1)\n",
    "\n",
    "df_Pac_new.head()\n",
    "#df_Pac_new.info()\n"
   ]
  },
  {
   "cell_type": "markdown",
   "metadata": {},
   "source": [
    "As one more step, we will create a new column that gives the average speed of each hurricane during the time when it is still dangerous."
   ]
  },
  {
   "cell_type": "code",
   "execution_count": 594,
   "metadata": {
    "collapsed": false
   },
   "outputs": [
    {
     "data": {
      "text/html": [
       "<div>\n",
       "<table border=\"1\" class=\"dataframe\">\n",
       "  <thead>\n",
       "    <tr style=\"text-align: right;\">\n",
       "      <th></th>\n",
       "      <th>YEAR</th>\n",
       "      <th>NAME</th>\n",
       "      <th>FIRST LONG</th>\n",
       "      <th>FIRST LAT</th>\n",
       "      <th>LAST LONG</th>\n",
       "      <th>LAST LAT</th>\n",
       "      <th>DISTANCE TRAVELLED(KM)</th>\n",
       "      <th>TIME TRAVELLED(HRS)</th>\n",
       "      <th>AVERAGE WIND STRENGTH(KMPH)</th>\n",
       "      <th>MAXIMUM EFFECTIVE STRENGTH</th>\n",
       "      <th>AVERAGE STRENGTH WRT MAXIMAL</th>\n",
       "      <th>AVERAGE SPEED(KMPH)</th>\n",
       "    </tr>\n",
       "  </thead>\n",
       "  <tbody>\n",
       "    <tr>\n",
       "      <th>0</th>\n",
       "      <td>1950</td>\n",
       "      <td>ABLE</td>\n",
       "      <td>-54.5</td>\n",
       "      <td>16.5</td>\n",
       "      <td>-50.7</td>\n",
       "      <td>53.6</td>\n",
       "      <td>6235.232439</td>\n",
       "      <td>264</td>\n",
       "      <td>149.046830</td>\n",
       "      <td>6</td>\n",
       "      <td>0.617424</td>\n",
       "      <td>23.618305</td>\n",
       "    </tr>\n",
       "    <tr>\n",
       "      <th>1</th>\n",
       "      <td>1950</td>\n",
       "      <td>BAKER</td>\n",
       "      <td>-55.0</td>\n",
       "      <td>16.3</td>\n",
       "      <td>-89.9</td>\n",
       "      <td>37.0</td>\n",
       "      <td>5214.709501</td>\n",
       "      <td>306</td>\n",
       "      <td>102.555980</td>\n",
       "      <td>5</td>\n",
       "      <td>0.470588</td>\n",
       "      <td>17.041534</td>\n",
       "    </tr>\n",
       "    <tr>\n",
       "      <th>2</th>\n",
       "      <td>1950</td>\n",
       "      <td>CHARLIE</td>\n",
       "      <td>-24.0</td>\n",
       "      <td>13.1</td>\n",
       "      <td>-58.1</td>\n",
       "      <td>38.4</td>\n",
       "      <td>6707.753820</td>\n",
       "      <td>348</td>\n",
       "      <td>118.896929</td>\n",
       "      <td>5</td>\n",
       "      <td>0.586207</td>\n",
       "      <td>19.275155</td>\n",
       "    </tr>\n",
       "    <tr>\n",
       "      <th>3</th>\n",
       "      <td>1950</td>\n",
       "      <td>DOG</td>\n",
       "      <td>-55.3</td>\n",
       "      <td>15.2</td>\n",
       "      <td>-70.6</td>\n",
       "      <td>39.3</td>\n",
       "      <td>3900.519360</td>\n",
       "      <td>300</td>\n",
       "      <td>200.201896</td>\n",
       "      <td>7</td>\n",
       "      <td>0.705714</td>\n",
       "      <td>13.001731</td>\n",
       "    </tr>\n",
       "    <tr>\n",
       "      <th>4</th>\n",
       "      <td>1950</td>\n",
       "      <td>EASY</td>\n",
       "      <td>-84.1</td>\n",
       "      <td>19.1</td>\n",
       "      <td>-90.2</td>\n",
       "      <td>35.9</td>\n",
       "      <td>2735.355281</td>\n",
       "      <td>210</td>\n",
       "      <td>112.193989</td>\n",
       "      <td>5</td>\n",
       "      <td>0.531429</td>\n",
       "      <td>13.025501</td>\n",
       "    </tr>\n",
       "  </tbody>\n",
       "</table>\n",
       "</div>"
      ],
      "text/plain": [
       "   YEAR     NAME  FIRST LONG  FIRST LAT  LAST LONG  LAST LAT  \\\n",
       "0  1950     ABLE       -54.5       16.5      -50.7      53.6   \n",
       "1  1950    BAKER       -55.0       16.3      -89.9      37.0   \n",
       "2  1950  CHARLIE       -24.0       13.1      -58.1      38.4   \n",
       "3  1950      DOG       -55.3       15.2      -70.6      39.3   \n",
       "4  1950     EASY       -84.1       19.1      -90.2      35.9   \n",
       "\n",
       "   DISTANCE TRAVELLED(KM)  TIME TRAVELLED(HRS)  AVERAGE WIND STRENGTH(KMPH)  \\\n",
       "0             6235.232439                  264                   149.046830   \n",
       "1             5214.709501                  306                   102.555980   \n",
       "2             6707.753820                  348                   118.896929   \n",
       "3             3900.519360                  300                   200.201896   \n",
       "4             2735.355281                  210                   112.193989   \n",
       "\n",
       "   MAXIMUM EFFECTIVE STRENGTH  AVERAGE STRENGTH WRT MAXIMAL  \\\n",
       "0                           6                      0.617424   \n",
       "1                           5                      0.470588   \n",
       "2                           5                      0.586207   \n",
       "3                           7                      0.705714   \n",
       "4                           5                      0.531429   \n",
       "\n",
       "   AVERAGE SPEED(KMPH)  \n",
       "0            23.618305  \n",
       "1            17.041534  \n",
       "2            19.275155  \n",
       "3            13.001731  \n",
       "4            13.025501  "
      ]
     },
     "execution_count": 594,
     "metadata": {},
     "output_type": "execute_result"
    }
   ],
   "source": [
    "df_Atl_new['AVERAGE SPEED(KMPH)'] = df_Atl_new.apply(lambda row: row['DISTANCE TRAVELLED(KM)'] /\n",
    "                                                    row['TIME TRAVELLED(HRS)'], axis =1)\n",
    "\n",
    "df_Pac_new['AVERAGE SPEED(KMPH)'] = df_Pac_new.apply(lambda row: row['DISTANCE TRAVELLED(KM)'] /\n",
    "                                                    row['TIME TRAVELLED(HRS)'], axis =1)\n",
    "\n",
    "df_Pac_new.head()\n",
    "df_Atl_new.head()"
   ]
  },
  {
   "cell_type": "code",
   "execution_count": 595,
   "metadata": {
    "collapsed": false
   },
   "outputs": [],
   "source": [
    "# delete auxilliary dataframes\n",
    "del [df_Pac_aux1, df_Pac_aux2, df_Pac_aux3, df_Pac_aux4, df_Pac_aux5, df_Pac_aux6, df_Pac_aux7]\n",
    "del [df_Atl_aux1, df_Atl_aux2, df_Atl_aux3, df_Atl_aux4, df_Atl_aux5, df_Atl_aux6, df_Atl_aux7]"
   ]
  },
  {
   "cell_type": "markdown",
   "metadata": {},
   "source": [
    "Finally, we create the combined list of the names of the hurricanes (Atlantic and Pacific) to be used in Part 2."
   ]
  },
  {
   "cell_type": "code",
   "execution_count": 596,
   "metadata": {
    "collapsed": false
   },
   "outputs": [],
   "source": [
    "names_Atl = list(df_Atl['NAME'].unique())\n",
    "names_Pac = list(df_Pac['NAME'].unique())\n",
    "\n",
    "merged_names_list = list(set(names_Atl + names_Pac))"
   ]
  },
  {
   "cell_type": "markdown",
   "metadata": {},
   "source": [
    "# Part 2: Data wrangling for 'Emergencies_database.csv'"
   ]
  },
  {
   "cell_type": "markdown",
   "metadata": {},
   "source": [
    "Here we will do the data preparation for the csv-file 'Emergencies_database.csv' taken from the KAGGLE open source database.\n",
    "Contrary to another interesting data file 'DisasterDeclarationsSummaries.csv', this file contains information about all counties in all states where the state of emergency because of a hurricane was declared. Counting the counties affected by disastrous hurricanes is much more informative than counting just the states. The file can be downloaded from\n",
    "\n",
    "https://www.kaggle.com/fema/federal-disasters\n",
    "\n",
    "We first select the rows with the column 'Disaster Type' equal to 'Hurricane' and 'Typhoon' from 'Emergencies_database.csv' that initially had 46185 rows. Now the dataframe has 8883 rows. \n"
   ]
  },
  {
   "cell_type": "code",
   "execution_count": 597,
   "metadata": {
    "collapsed": false
   },
   "outputs": [
    {
     "name": "stdout",
     "output_type": "stream",
     "text": [
      "<class 'pandas.core.frame.DataFrame'>\n",
      "Int64Index: 8883 entries, 20 to 46059\n",
      "Data columns (total 14 columns):\n",
      "Declaration Number                  8883 non-null object\n",
      "Declaration Type                    8883 non-null object\n",
      "Declaration Date                    8883 non-null object\n",
      "State                               8883 non-null object\n",
      "County                              8847 non-null object\n",
      "Disaster Type                       8883 non-null object\n",
      "Disaster Title                      8883 non-null object\n",
      "Start Date                          8883 non-null object\n",
      "End Date                            8883 non-null object\n",
      "Close Date                          6189 non-null object\n",
      "Individual Assistance Program       8883 non-null object\n",
      "Individuals & Households Program    8883 non-null object\n",
      "Public Assistance Program           8883 non-null object\n",
      "Hazard Mitigation Program           8883 non-null object\n",
      "dtypes: object(14)\n",
      "memory usage: 1.0+ MB\n"
     ]
    }
   ],
   "source": [
    "df_emerg = pd.read_csv('Emergencies_database.csv', parse_dates = True)\n",
    "#df_emerg.info()\n",
    "#df_emerg['Disaster Type'].unique()\n",
    "\n",
    "df_emerg = df_emerg[df_emerg['Disaster Type'].isin(['Hurricane', 'Typhoon'])]\n",
    "df_emerg.info()\n"
   ]
  },
  {
   "cell_type": "markdown",
   "metadata": {},
   "source": [
    "Now we choose the columns 'Declaration Date', 'State', 'County', 'Disaster Title' that are only interesting to us, and look at the missing values. Some values are missing from the 'County' column, and we fill them with the value 'Some name' regarding each such entry as a distinct county. "
   ]
  },
  {
   "cell_type": "code",
   "execution_count": 598,
   "metadata": {
    "collapsed": false
   },
   "outputs": [
    {
     "name": "stdout",
     "output_type": "stream",
     "text": [
      "<class 'pandas.core.frame.DataFrame'>\n",
      "Int64Index: 8883 entries, 20 to 46059\n",
      "Data columns (total 4 columns):\n",
      "Declaration Date    8883 non-null object\n",
      "State               8883 non-null object\n",
      "County              8883 non-null object\n",
      "Disaster Title      8883 non-null object\n",
      "dtypes: object(4)\n",
      "memory usage: 347.0+ KB\n"
     ]
    }
   ],
   "source": [
    "df_emerg = df_emerg[['Declaration Date', 'State', 'County', 'Disaster Title']]\n",
    "df_emerg.fillna('Some name',inplace = True)\n",
    "\n",
    "df_emerg.info()\n"
   ]
  },
  {
   "cell_type": "markdown",
   "metadata": {},
   "source": [
    "We then recast the 'Declaration Date' column in the standard datetime format and create three separate columns,\n",
    "corresponding to year, month and day with the names to match the hurricane tracks dataframes. There are no missing or incorrectly entered data in these columns. The earliest year is 1954 and the latest is 2016."
   ]
  },
  {
   "cell_type": "code",
   "execution_count": 599,
   "metadata": {
    "collapsed": false
   },
   "outputs": [
    {
     "data": {
      "text/plain": [
       "array([1954, 1955, 1956, 1957, 1958, 1959, 1960, 1961, 1962, 1963, 1964,\n",
       "       1965, 1966, 1967, 1968, 1969, 1970, 1971, 1974, 1976, 1979, 1980,\n",
       "       1981, 1982, 1983, 1984, 1985, 1986, 1987, 1988, 1989, 1990, 1991,\n",
       "       1992, 1993, 1995, 1996, 1997, 1998, 1999, 2002, 2003, 2004, 2005,\n",
       "       2007, 2008, 2009, 2010, 2011, 2012, 2013, 2015, 2016], dtype=int64)"
      ]
     },
     "execution_count": 599,
     "metadata": {},
     "output_type": "execute_result"
    }
   ],
   "source": [
    "df_emerg['Declaration Date'] = pd.to_datetime(df_emerg['Declaration Date'])\n",
    "\n",
    "df_emerg['YEAR'] = df_emerg['Declaration Date'].dt.year\n",
    "df_emerg['MONTH'] = df_emerg['Declaration Date'].dt.month\n",
    "df_emerg['DAY'] = df_emerg['Declaration Date'].dt.day\n",
    "\n",
    "df_emerg.MONTH.unique()\n",
    "df_emerg.DAY.unique()\n",
    "df_emerg.YEAR.unique()"
   ]
  },
  {
   "cell_type": "markdown",
   "metadata": {},
   "source": [
    "The majority of values in the column 'Disaster Title' contains the name of a hurricane. Thus, our next task will be to single out the name of a hurricane in each entry of the column. To do this, we capitalize the entry and remove everything that does not contain a name from the combined list of names for Atlantic and Pacific hurricanes created from the hurricane tracks dataframes. "
   ]
  },
  {
   "cell_type": "code",
   "execution_count": 600,
   "metadata": {
    "collapsed": false
   },
   "outputs": [
    {
     "name": "stdout",
     "output_type": "stream",
     "text": [
      "<class 'pandas.core.frame.DataFrame'>\n",
      "Int64Index: 8883 entries, 20 to 46059\n",
      "Data columns (total 7 columns):\n",
      "Declaration Date    8883 non-null datetime64[ns]\n",
      "State               8883 non-null object\n",
      "County              8883 non-null object\n",
      "Disaster Title      8883 non-null object\n",
      "YEAR                8883 non-null int64\n",
      "MONTH               8883 non-null int64\n",
      "DAY                 8883 non-null int64\n",
      "dtypes: datetime64[ns](1), int64(3), object(3)\n",
      "memory usage: 555.2+ KB\n"
     ]
    }
   ],
   "source": [
    "# Capitalize all words in the column 'Disaster Title'\n",
    "df_aux = df_emerg['Disaster Title'].str.upper().str.split()\n",
    "\n",
    "#remove all words that do not belong to names \n",
    "for ind in df_aux.index:\n",
    "    df_aux[ind] = ''.join([word for word in df_aux[ind] if word in merged_names_list])\n",
    "\n",
    "df_emerg['Disaster Title'] = pd.DataFrame(df_aux)\n",
    "\n",
    "df_emerg.info()"
   ]
  },
  {
   "cell_type": "markdown",
   "metadata": {},
   "source": [
    "The new dataframe contains 8883 rows but 1664 rows are empty and do not contain the name of a hurricane. We will drop those\n",
    "rows and rename the name of the column 'Disaster Title' to name. The new dataframe contains 7219 rows, but examining it further we see that the sensible data about the number of counties affected is for hurricanes dated by 1965 and later. Thus we slightly trim our dataframe to arrive at the new dataframe containing 7207 rows."
   ]
  },
  {
   "cell_type": "code",
   "execution_count": 601,
   "metadata": {
    "collapsed": false
   },
   "outputs": [
    {
     "name": "stdout",
     "output_type": "stream",
     "text": [
      "<class 'pandas.core.frame.DataFrame'>\n",
      "Int64Index: 7207 entries, 665 to 46059\n",
      "Data columns (total 7 columns):\n",
      "Declaration Date    7207 non-null datetime64[ns]\n",
      "State               7207 non-null object\n",
      "County              7207 non-null object\n",
      "NAME                7207 non-null object\n",
      "YEAR                7207 non-null int64\n",
      "MONTH               7207 non-null int64\n",
      "DAY                 7207 non-null int64\n",
      "dtypes: datetime64[ns](1), int64(3), object(3)\n",
      "memory usage: 450.4+ KB\n"
     ]
    }
   ],
   "source": [
    "#df_emerg[df_emerg['Disaster Title'] == '']['Disaster Title'].value_counts()\n",
    "\n",
    "df_emerg = df_emerg.replace('', np.nan).dropna()\n",
    "df_emerg = df_emerg.rename(columns = {'Disaster Title': 'NAME'})\n",
    "\n",
    "#df_emerg.head(100)\n",
    "#df_emerg.info()\n",
    "\n",
    "df_emerg = df_emerg[df_emerg['YEAR'] >= 1965]\n",
    "\n",
    "df_emerg.head(100)\n",
    "df_emerg.info()"
   ]
  },
  {
   "cell_type": "markdown",
   "metadata": {},
   "source": [
    "Finally, we will count the number of affected counties grouping them by year and name. The new dataframe is called\n",
    "df_emerg_new"
   ]
  },
  {
   "cell_type": "code",
   "execution_count": 602,
   "metadata": {
    "collapsed": false
   },
   "outputs": [
    {
     "name": "stdout",
     "output_type": "stream",
     "text": [
      "<class 'pandas.core.frame.DataFrame'>\n",
      "RangeIndex: 68 entries, 0 to 67\n",
      "Data columns (total 3 columns):\n",
      "YEAR                  68 non-null int64\n",
      "NAME                  68 non-null object\n",
      "NUMBER OF COUNTIES    68 non-null int64\n",
      "dtypes: int64(2), object(1)\n",
      "memory usage: 1.7+ KB\n"
     ]
    }
   ],
   "source": [
    "df_emerg_new = df_emerg.groupby(['YEAR', 'NAME'])['County'].count()\n",
    "\n",
    "df_emerg_new = pd.DataFrame(df_emerg_new.reset_index())\n",
    "df_emerg_new = df_emerg_new.rename(columns = {'County':'NUMBER OF COUNTIES'})\n",
    "\n",
    "# df_emerg_new\n",
    "df_emerg_new.info()"
   ]
  },
  {
   "cell_type": "markdown",
   "metadata": {
    "collapsed": true
   },
   "source": [
    "# Part 3: Data Storytelling"
   ]
  },
  {
   "cell_type": "markdown",
   "metadata": {},
   "source": [
    "Here we will make some plots to gain insights about tendencies that may require further investigation. To do this we first import the plotting tools."
   ]
  },
  {
   "cell_type": "code",
   "execution_count": 603,
   "metadata": {
    "collapsed": true
   },
   "outputs": [],
   "source": [
    "import matplotlib.pyplot as plt\n",
    "\n",
    "import seaborn as sns"
   ]
  },
  {
   "cell_type": "markdown",
   "metadata": {},
   "source": [
    "1) We first look at how the number of Atlantic storms of different categories depends on year, and try to determine the tendencies."
   ]
  },
  {
   "cell_type": "code",
   "execution_count": 604,
   "metadata": {
    "collapsed": false,
    "scrolled": false
   },
   "outputs": [],
   "source": [
    "df_Atl_aux1 = pd.DataFrame(df_Atl_new[df_Atl_new['MAXIMUM EFFECTIVE STRENGTH'].isin([1, 2])].groupby('YEAR')\\\n",
    "                                    ['MAXIMUM EFFECTIVE STRENGTH'].count()).reset_index()\\\n",
    "        .rename(columns = {'MAXIMUM EFFECTIVE STRENGTH' : 'NUMBER OF ATLANTIC STORMS AND DEPRESSIONS'})\n",
    "\n",
    "\n",
    "df_Atl_aux2 = pd.DataFrame(df_Atl_new[df_Atl_new['MAXIMUM EFFECTIVE STRENGTH'].isin([3, 4, 5])].groupby('YEAR')\\\n",
    "                                    ['MAXIMUM EFFECTIVE STRENGTH'].count()).reset_index()\\\n",
    "        .rename(columns = {'MAXIMUM EFFECTIVE STRENGTH' : 'NUMBER OF ATLANTIC CATEGORY 1, 2 AND 3 HURRICANES'})\n",
    "    \n",
    "df_Atl_aux3 = pd.DataFrame(df_Atl_new[df_Atl_new['MAXIMUM EFFECTIVE STRENGTH'].isin([6, 7])].groupby('YEAR')\\\n",
    "                                    ['MAXIMUM EFFECTIVE STRENGTH'].count()).reset_index()\\\n",
    "        .rename(columns = {'MAXIMUM EFFECTIVE STRENGTH' : 'NUMBER OF ATLANTIC CATEGORY 4 AND 5 HURRICANES'})\n",
    "    \n",
    "df_Atl_auxa = pd.merge(df_Atl_aux1, df_Atl_aux2, on = 'YEAR') \n",
    "df_Atl_auxb = pd.merge(df_Atl_auxa, df_Atl_aux3, on = 'YEAR')\n",
    "df_Atl_auxb.index = df_Atl_auxb['YEAR']\n"
   ]
  },
  {
   "cell_type": "code",
   "execution_count": 605,
   "metadata": {
    "collapsed": false
   },
   "outputs": [
    {
     "data": {
      "image/png": "[encoded data removed]",
      "text/plain": [
       "<matplotlib.figure.Figure at 0x106547009e8>"
      ]
     },
     "metadata": {},
     "output_type": "display_data"
    }
   ],
   "source": [
    "fig1 = df_Atl_auxb.loc[:, 'NUMBER OF ATLANTIC STORMS AND DEPRESSIONS'].\\\n",
    "plot(title = 'NUMBER OF ATLANTIC STORMS AND DEPRESSIONS', kind = 'bar').get_figure()\n",
    "plt.show()\n",
    "\n",
    "fig1.savefig('Atl_storms_vs_year.pdf')"
   ]
  },
  {
   "cell_type": "code",
   "execution_count": 606,
   "metadata": {
    "collapsed": false
   },
   "outputs": [
    {
     "data": {
      "image/png": "[encoded data removed]",
      "text/plain": [
       "<matplotlib.figure.Figure at 0x10654ae7630>"
      ]
     },
     "metadata": {},
     "output_type": "display_data"
    }
   ],
   "source": [
    "fig2 = df_Atl_auxb.loc[:, 'NUMBER OF ATLANTIC CATEGORY 1, 2 AND 3 HURRICANES'].\\\n",
    "plot(title = 'NUMBER OF ATLANTIC CATEGORY 1, 2 AND 3 HURRICANES', kind = 'bar').get_figure()\n",
    "plt.show()\n",
    "\n",
    "fig2.savefig('Atl_hurr123_vs_year.pdf')"
   ]
  },
  {
   "cell_type": "code",
   "execution_count": 607,
   "metadata": {
    "collapsed": false
   },
   "outputs": [
    {
     "data": {
      "image/png": "[encoded data removed]",
      "text/plain": [
       "<matplotlib.figure.Figure at 0x10654a59710>"
      ]
     },
     "metadata": {},
     "output_type": "display_data"
    }
   ],
   "source": [
    "fig3 = df_Atl_auxb.loc[:, 'NUMBER OF ATLANTIC CATEGORY 4 AND 5 HURRICANES'].\\\n",
    "plot(title = 'NUMBER OF ATLANTIC CATEGORY 4 AND 5 HURRICANES', kind = 'bar').get_figure()\n",
    "plt.show()\n",
    "\n",
    "fig3.savefig('Atl_hurr45_vs_year.pdf')"
   ]
  },
  {
   "cell_type": "markdown",
   "metadata": {},
   "source": [
    "The analysis of plots reveals that the number of Atlantic low-pressure systems, that reached the level of a depression or storm, has a tendency to increase on average during the time interval between 1950 and 2004 years. At the same time, the number of hurricanes that reached the level of category 1, 2, or 3 is approximately the same. The average number of the most dangerous hurricanes of 4 and 5 categories is maximal during the last decade preceding 2004."
   ]
  },
  {
   "cell_type": "markdown",
   "metadata": {},
   "source": [
    "Next we look at how the number of Pacific storms of different categories depends on year, and try to determine similar tendencies."
   ]
  },
  {
   "cell_type": "code",
   "execution_count": 608,
   "metadata": {
    "collapsed": false
   },
   "outputs": [],
   "source": [
    "df_Pac_aux1 = pd.DataFrame(df_Pac_new[df_Pac_new['MAXIMUM EFFECTIVE STRENGTH'].isin([1, 2])].groupby('YEAR')\\\n",
    "                                    ['MAXIMUM EFFECTIVE STRENGTH'].count()).reset_index()\\\n",
    "        .rename(columns = {'MAXIMUM EFFECTIVE STRENGTH' : 'NUMBER OF PACIFIC STORMS AND DEPRESSIONS'})\n",
    "\n",
    "\n",
    "df_Pac_aux2 = pd.DataFrame(df_Pac_new[df_Pac_new['MAXIMUM EFFECTIVE STRENGTH'].isin([3, 4, 5])].groupby('YEAR')\\\n",
    "                                    ['MAXIMUM EFFECTIVE STRENGTH'].count()).reset_index()\\\n",
    "        .rename(columns = {'MAXIMUM EFFECTIVE STRENGTH' : 'NUMBER OF PACIFIC CATEGORY 1, 2 AND 3 HURRICANES'})\n",
    "    \n",
    "df_Pac_aux3 = pd.DataFrame(df_Pac_new[df_Pac_new['MAXIMUM EFFECTIVE STRENGTH'].isin([6, 7])].groupby('YEAR')\\\n",
    "                                    ['MAXIMUM EFFECTIVE STRENGTH'].count()).reset_index()\\\n",
    "        .rename(columns = {'MAXIMUM EFFECTIVE STRENGTH' : 'NUMBER OF PACIFIC CATEGORY 4 AND 5 HURRICANES'})\n",
    "    \n",
    "df_Pac_auxa = pd.merge(df_Pac_aux1, df_Pac_aux2, on = 'YEAR') \n",
    "df_Pac_auxb = pd.merge(df_Pac_auxa, df_Pac_aux3, on = 'YEAR')\n",
    "df_Pac_auxb.index = df_Pac_auxb['YEAR']"
   ]
  },
  {
   "cell_type": "code",
   "execution_count": 609,
   "metadata": {
    "collapsed": false
   },
   "outputs": [
    {
     "data": {
      "image/png": "[encoded data removed]",
      "text/plain": [
       "<matplotlib.figure.Figure at 0x10654776358>"
      ]
     },
     "metadata": {},
     "output_type": "display_data"
    }
   ],
   "source": [
    "fig4 = df_Pac_auxb.loc[:, 'NUMBER OF PACIFIC STORMS AND DEPRESSIONS'].\\\n",
    "plot(title = 'NUMBER OF PACIFIC STORMS AND DEPRESSIONS', kind = 'bar').get_figure()\n",
    "plt.show()\n",
    "\n",
    "fig4.savefig('Pac_storms_vs_year.pdf')"
   ]
  },
  {
   "cell_type": "code",
   "execution_count": 610,
   "metadata": {
    "collapsed": false
   },
   "outputs": [
    {
     "data": {
      "image/png": "[encoded data removed]",
      "text/plain": [
       "<matplotlib.figure.Figure at 0x106544ef668>"
      ]
     },
     "metadata": {},
     "output_type": "display_data"
    }
   ],
   "source": [
    "fig5 = df_Pac_auxb.loc[:, 'NUMBER OF PACIFIC CATEGORY 1, 2 AND 3 HURRICANES'].\\\n",
    "plot(title = 'NUMBER OF PACIFIC CATEGORY 1, 2 AND 3 HURRICANES', kind = 'bar').get_figure()\n",
    "plt.show()\n",
    "\n",
    "fig5.savefig('Pac_hurr123_vs_year.pdf')"
   ]
  },
  {
   "cell_type": "code",
   "execution_count": 611,
   "metadata": {
    "collapsed": false
   },
   "outputs": [
    {
     "data": {
      "image/png": "[encoded data removed]",
      "text/plain": [
       "<matplotlib.figure.Figure at 0x10654a79668>"
      ]
     },
     "metadata": {},
     "output_type": "display_data"
    }
   ],
   "source": [
    "fig6 = df_Pac_auxb.loc[:, 'NUMBER OF PACIFIC CATEGORY 4 AND 5 HURRICANES'].\\\n",
    "plot(title = 'NUMBER OF PACIFIC CATEGORY 4 AND 5 HURRICANES', kind = 'bar').get_figure()\n",
    "plt.show()\n",
    "\n",
    "fig6.savefig('Pac_hurr45_vs_year.pdf')"
   ]
  },
  {
   "cell_type": "markdown",
   "metadata": {},
   "source": [
    "Looking at the plots for the numbers of Pacific low-pressure systems, we come to the conclusion that the numbers of hurricanes of all strengths display large fluctuations from year to year. One can distinguish between the high-frequency hurricane seasons and the low-frequency ones. One can see that the number of category 1,2 or 3 hurricanes was relatively small for all years between 1994 and 2004."
   ]
  },
  {
   "cell_type": "markdown",
   "metadata": {},
   "source": [
    "2) Next we look at the column that gives the distance travelled by each hurricane while it is considered dangerous. The descriptions as well as boxplot reveal that the travel distances vary dramatically. The variation range is especially pronounced for Pacific hurricanes. "
   ]
  },
  {
   "cell_type": "code",
   "execution_count": 612,
   "metadata": {
    "collapsed": false
   },
   "outputs": [
    {
     "data": {
      "image/png": "[encoded data removed]",
      "text/plain": [
       "<matplotlib.figure.Figure at 0x106549794e0>"
      ]
     },
     "metadata": {},
     "output_type": "display_data"
    }
   ],
   "source": [
    "df_Atl_new['DISTANCE TRAVELLED(KM)'].describe()\n",
    "df_Pac_new['DISTANCE TRAVELLED(KM)'].describe()\n",
    "\n",
    "fig7 = plt.figure()\n",
    "plt.boxplot([ df_Pac_new['DISTANCE TRAVELLED(KM)'], df_Atl_new['DISTANCE TRAVELLED(KM)'] ],\n",
    "            labels = ['Pacific', 'Atlantic'], whis = 'range')\n",
    "\n",
    "plt.ylabel('[kilometers]')\n",
    "plt.show()\n",
    "\n",
    "fig7.savefig('Dist_travelled.pdf')"
   ]
  },
  {
   "cell_type": "markdown",
   "metadata": {},
   "source": [
    "3) Then we look at the column that gives the total time travelled by each hurricane while it is considered dangerous. The descriptions as well as boxplot reveal that the travel times vary a lot as well, with the variation range being more pronounced for Pacific hurricanes than for Atlantic ones. We should notice also that the range of top 25 percent times and distances is much larger than the range of bottom 75 percent."
   ]
  },
  {
   "cell_type": "code",
   "execution_count": 613,
   "metadata": {
    "collapsed": false
   },
   "outputs": [
    {
     "data": {
      "image/png": "[encoded data removed]",
      "text/plain": [
       "<matplotlib.figure.Figure at 0x10651aac198>"
      ]
     },
     "metadata": {},
     "output_type": "display_data"
    }
   ],
   "source": [
    "df_Atl_new['TIME TRAVELLED(HRS)'].describe()\n",
    "df_Pac_new['TIME TRAVELLED(HRS)'].describe()\n",
    "\n",
    "fig8 = plt.figure()\n",
    "plt.boxplot([ df_Pac_new['TIME TRAVELLED(HRS)'], df_Atl_new['TIME TRAVELLED(HRS)'] ],\n",
    "            labels = ['Pacific', 'Atlantic'], whis = 'range')\n",
    "\n",
    "plt.ylabel('[hours]')\n",
    "plt.show()\n",
    "\n",
    "fig8.savefig('Time_travelled.pdf')"
   ]
  },
  {
   "cell_type": "markdown",
   "metadata": {},
   "source": [
    "4) We then make a box plot of average speeds. We see that the spread of values of speeds for Atlantic hurricanes is much broader than for Pacific ones."
   ]
  },
  {
   "cell_type": "code",
   "execution_count": 614,
   "metadata": {
    "collapsed": false
   },
   "outputs": [
    {
     "data": {
      "image/png": "[encoded data removed]",
      "text/plain": [
       "<matplotlib.figure.Figure at 0x1065477a3c8>"
      ]
     },
     "metadata": {},
     "output_type": "display_data"
    }
   ],
   "source": [
    "df_Pac_new['AVERAGE SPEED(KMPH)'].describe()\n",
    "df_Atl_new['AVERAGE SPEED(KMPH)'].describe()\n",
    "\n",
    "fig9 = plt.figure()\n",
    "plt.boxplot([ df_Pac_new['AVERAGE SPEED(KMPH)'], df_Atl_new['AVERAGE SPEED(KMPH)'] ],\n",
    "            labels = ['Pacific', 'Atlantic'], whis = 'range')\n",
    "\n",
    "plt.ylabel('[kilometers per hour]')\n",
    "plt.show()\n",
    "\n",
    "fig9.savefig('average_speed.pdf')"
   ]
  },
  {
   "cell_type": "markdown",
   "metadata": {},
   "source": [
    "5) Let's make the histograms of the average strengths of hurricanes with respect to the maximum strength. We see that the average strengths of Pacific hurricanes have broader distribution than those of Atlantic ones. While the average strength of Atlantic hurricanes is peaked at around 0.7, the same parameter for Pacific ones is maximal at values of around 0.55."
   ]
  },
  {
   "cell_type": "code",
   "execution_count": 615,
   "metadata": {
    "collapsed": false
   },
   "outputs": [
    {
     "data": {
      "image/png": "[encoded data removed]",
      "text/plain": [
       "<matplotlib.figure.Figure at 0x10654940f28>"
      ]
     },
     "metadata": {},
     "output_type": "display_data"
    }
   ],
   "source": [
    "df_Pac_new['AVERAGE STRENGTH WRT MAXIMAL'].describe() \n",
    "df_Atl_new['AVERAGE STRENGTH WRT MAXIMAL'].describe()\n",
    "\n",
    "\n",
    "fff1 = plt.figure()\n",
    "plt.subplot(1,2,1)\n",
    "plt.hist(df_Pac_new['AVERAGE STRENGTH WRT MAXIMAL'])\n",
    "plt.xlabel('Pacific')\n",
    "plt.title('                         AVERAGE STRENGTH OF HURRICANES WITH RESPECT TO MAXIMAL')\n",
    "\n",
    "plt.subplot(1,2,2)\n",
    "plt.hist(df_Atl_new['AVERAGE STRENGTH WRT MAXIMAL'])\n",
    "plt.xlabel('Atlantic')\n",
    "plt.show()\n",
    "\n",
    "fff1.savefig('average_strength.pdf')"
   ]
  },
  {
   "cell_type": "markdown",
   "metadata": {},
   "source": [
    "6) Here we look at the dependence of maximum effective strength of hurricanes on the distance travelled while being dangerous. We see that the average distance travelled, as well as the spread of distances, has the tendency to increase with increasing maximum strength. This is almost true for both Pacific and Atlantic hurricanes. The minimal distance corresponding  to hurricanes of various strengths increases as well for hurricanes of larger maximum strength."
   ]
  },
  {
   "cell_type": "code",
   "execution_count": 616,
   "metadata": {
    "collapsed": false
   },
   "outputs": [
    {
     "data": {
      "image/png": "[encoded data removed]",
      "text/plain": [
       "<matplotlib.figure.Figure at 0x106549315c0>"
      ]
     },
     "metadata": {},
     "output_type": "display_data"
    }
   ],
   "source": [
    "ff2a = plt.figure()\n",
    "\n",
    "plt.scatter(x = df_Pac_new['DISTANCE TRAVELLED(KM)'], y = df_Pac_new['MAXIMUM EFFECTIVE STRENGTH'], marker = 'x', c = 'r')\n",
    "plt.xlabel('DISTANCE TRAVELLED (KM)')\n",
    "plt.ylabel('MAXIMUM EFFECTIVE STRENGTH')\n",
    "plt.title('MAXIMUM STRENGTH OF PACIFIC HURRICANES AS A FUNCTION OF DISTANCE TRAVELLED ')\n",
    "plt.show()\n",
    "\n",
    "ff2a.savefig('max_Pac_str_vs_distance.pdf')"
   ]
  },
  {
   "cell_type": "code",
   "execution_count": 617,
   "metadata": {
    "collapsed": false
   },
   "outputs": [
    {
     "data": {
      "image/png": "[encoded data removed]",
      "text/plain": [
       "<matplotlib.figure.Figure at 0x106535b6978>"
      ]
     },
     "metadata": {},
     "output_type": "display_data"
    }
   ],
   "source": [
    "ff2b = plt.figure()\n",
    "\n",
    "plt.scatter(x = df_Atl_new['DISTANCE TRAVELLED(KM)'], y = df_Atl_new['MAXIMUM EFFECTIVE STRENGTH'], marker = 'o', c = 'b')\n",
    "plt.xlabel('DISTANCE TRAVELLED (KM)')\n",
    "plt.ylabel('MAXIMUM EFFECTIVE STRENGTH')\n",
    "plt.title('MAXIMUM STRENGTH OF ATLANTIC HURRICANES AS A FUNCTION OF DISTANCE TRAVELLED ')\n",
    "plt.show()\n",
    "\n",
    "ff2b.savefig('max_Atl_str_vs_distance.pdf')"
   ]
  },
  {
   "cell_type": "markdown",
   "metadata": {},
   "source": [
    "7) We then look at the dependence of the maximum effective strength of hurricanes on the time travelled while being dangerous. The dependence here is similar to that for the maximum strength vs distance travelled. The minimal and average times travelled by hurricanes have the tendency to increase with increasing value of the maximum strength."
   ]
  },
  {
   "cell_type": "code",
   "execution_count": 618,
   "metadata": {
    "collapsed": false
   },
   "outputs": [
    {
     "data": {
      "image/png": "[encoded data removed]",
      "text/plain": [
       "<matplotlib.figure.Figure at 0x10654b94898>"
      ]
     },
     "metadata": {},
     "output_type": "display_data"
    }
   ],
   "source": [
    "ff3a = plt.figure()\n",
    "\n",
    "plt.scatter(x = df_Pac_new['TIME TRAVELLED(HRS)'], y = df_Pac_new['MAXIMUM EFFECTIVE STRENGTH'], marker = '^', c = 'r')\n",
    "plt.xlabel('TIME TRAVELLED (HRS)')\n",
    "plt.ylabel('MAXIMUM EFFECTIVE STRENGTH')\n",
    "plt.title('MAXIMUM STRENGTH OF PACIFIC HURRICANES AS A FUNCTION OF TIME TRAVELLED ')\n",
    "plt.show()\n",
    "\n",
    "ff3a.savefig('max_Pac_str_vs_time.pdf')"
   ]
  },
  {
   "cell_type": "code",
   "execution_count": 619,
   "metadata": {
    "collapsed": false
   },
   "outputs": [
    {
     "data": {
      "image/png": "[encoded data removed]",
      "text/plain": [
       "<matplotlib.figure.Figure at 0x10654ca5128>"
      ]
     },
     "metadata": {},
     "output_type": "display_data"
    }
   ],
   "source": [
    "ff3b = plt.figure()\n",
    "\n",
    "plt.scatter(x = df_Atl_new['TIME TRAVELLED(HRS)'], y = df_Atl_new['MAXIMUM EFFECTIVE STRENGTH'], marker = 'o', c = 'b')\n",
    "plt.xlabel('TIME TRAVELLED (HRS)')\n",
    "plt.ylabel('MAXIMUM EFFECTIVE STRENGTH')\n",
    "plt.title('MAXIMUM STRENGTH OF ATLANTIC HURRICANES AS A FUNCTION OF TIME TRAVELLED ')\n",
    "plt.show()\n",
    "\n",
    "ff3b.savefig('max_Atl_str_vs_time.pdf')"
   ]
  },
  {
   "cell_type": "markdown",
   "metadata": {},
   "source": [
    "8) Finally, we look at the dependence of the maximum strength of hurricanes on the latitude and longitude when they first became dangerous. The tendency that we observe for both Pacific and Atlantic hurricanes is very interesting. The larger the maximal strength of a hurricane is, the smaller the range of latitudes and longitudes where the hurricane is more likely to form. "
   ]
  },
  {
   "cell_type": "code",
   "execution_count": 620,
   "metadata": {
    "collapsed": false
   },
   "outputs": [
    {
     "data": {
      "image/png": "[encoded data removed]",
      "text/plain": [
       "<matplotlib.figure.Figure at 0x1064e6f7da0>"
      ]
     },
     "metadata": {},
     "output_type": "display_data"
    }
   ],
   "source": [
    "ff4a = plt.figure()\n",
    "\n",
    "plt.scatter(x = df_Pac_new['FIRST LAT'], y = df_Pac_new['MAXIMUM EFFECTIVE STRENGTH'], marker = '^', c = 'r')\n",
    "plt.xlabel('FIRST LATITUDE WHEN DANGEROUS')\n",
    "plt.ylabel('MAXIMUM EFFECTIVE STRENGTH')\n",
    "plt.title('MAX STRENGTH OF PACIFIC HURRICANES VS 1ST LATITUDE WHEN THEY BECAME DANGEROUS')\n",
    "plt.show()\n",
    "\n",
    "ff4a.savefig('max_Pac_str_vs_first_lat.pdf')"
   ]
  },
  {
   "cell_type": "code",
   "execution_count": 621,
   "metadata": {
    "collapsed": false
   },
   "outputs": [
    {
     "data": {
      "image/png": "[encoded data removed]",
      "text/plain": [
       "<matplotlib.figure.Figure at 0x10652e016a0>"
      ]
     },
     "metadata": {},
     "output_type": "display_data"
    }
   ],
   "source": [
    "ff4b = plt.figure()\n",
    "\n",
    "plt.scatter(x = df_Atl_new['FIRST LAT'], y = df_Atl_new['MAXIMUM EFFECTIVE STRENGTH'], marker = 'o', c = 'b')\n",
    "plt.xlabel('FIRST LATITUDE WHEN DANGEROUS')\n",
    "plt.ylabel('MAXIMUM EFFECTIVE STRENGTH')\n",
    "plt.title('MAX STRENGTH OF ATLANTIC HURRICANES VS 1ST LATITUDE WHEN THEY BECAME DANGEROUS')\n",
    "plt.show()\n",
    "\n",
    "ff4b.savefig('max_Atl_str_vs_first_lat.pdf')"
   ]
  },
  {
   "cell_type": "code",
   "execution_count": 622,
   "metadata": {
    "collapsed": false
   },
   "outputs": [
    {
     "data": {
      "image/png": "[encoded data removed]",
      "text/plain": [
       "<matplotlib.figure.Figure at 0x1064e7afc50>"
      ]
     },
     "metadata": {},
     "output_type": "display_data"
    }
   ],
   "source": [
    "ff4c = plt.figure()\n",
    "\n",
    "plt.scatter(x = df_Pac_new['FIRST LONG'], y = df_Pac_new['MAXIMUM EFFECTIVE STRENGTH'], marker = 'v', c = 'm')\n",
    "plt.xlabel('FIRST LONGITUDE WHEN DANGEROUS')\n",
    "plt.ylabel('MAXIMUM EFFECTIVE STRENGTH')\n",
    "plt.title('MAX STRENGTH OF PACIFIC HURRICANES VS 1ST LONGITUDE WHEN THEY BECAME DANGEROUS')\n",
    "plt.show()\n",
    "\n",
    "ff4c.savefig('max_Pac_str_vs_first_long.pdf')"
   ]
  },
  {
   "cell_type": "code",
   "execution_count": 623,
   "metadata": {
    "collapsed": false
   },
   "outputs": [
    {
     "data": {
      "image/png": "[encoded data removed]",
      "text/plain": [
       "<matplotlib.figure.Figure at 0x106552ff278>"
      ]
     },
     "metadata": {},
     "output_type": "display_data"
    }
   ],
   "source": [
    "ff4d = plt.figure()\n",
    "\n",
    "plt.scatter(x = df_Atl_new['FIRST LONG'], y = df_Atl_new['MAXIMUM EFFECTIVE STRENGTH'], marker = 'x', c = 'g')\n",
    "plt.xlabel('FIRST LONGITUDE WHEN DANGEROUS')\n",
    "plt.ylabel('MAXIMUM EFFECTIVE STRENGTH')\n",
    "plt.title('MAX STRENGTH OF ATLANTIC HURRICANES VS 1ST LONGITUDE WHEN THEY BECAME DANGEROUS')\n",
    "plt.show()\n",
    "\n",
    "ff4c.savefig('max_Atl_str_vs_first_long.pdf')"
   ]
  },
  {
   "cell_type": "markdown",
   "metadata": {},
   "source": [
    "9) Finally we will try to merge the hurricane and emergency dataframes, based on the 'NAME' and 'YEAR' columns. The resultant dataframes become too small, however. Merging with Pacific hurricanes dataframe gives only 3 rows, while merging with Atlantic hurricanes one leads to a combined dataframe of only 47 rows. Thus this merged dataframe will be hardly useful for making predictions.  "
   ]
  },
  {
   "cell_type": "code",
   "execution_count": 624,
   "metadata": {
    "collapsed": false
   },
   "outputs": [
    {
     "name": "stdout",
     "output_type": "stream",
     "text": [
      "<class 'pandas.core.frame.DataFrame'>\n",
      "Int64Index: 47 entries, 0 to 46\n",
      "Data columns (total 13 columns):\n",
      "YEAR                            47 non-null int64\n",
      "NAME                            47 non-null object\n",
      "FIRST LONG                      47 non-null float64\n",
      "FIRST LAT                       47 non-null float64\n",
      "LAST LONG                       47 non-null float64\n",
      "LAST LAT                        47 non-null float64\n",
      "DISTANCE TRAVELLED(KM)          47 non-null float64\n",
      "TIME TRAVELLED(HRS)             47 non-null int64\n",
      "AVERAGE WIND STRENGTH(KMPH)     47 non-null float64\n",
      "MAXIMUM EFFECTIVE STRENGTH      47 non-null int64\n",
      "AVERAGE STRENGTH WRT MAXIMAL    47 non-null float64\n",
      "AVERAGE SPEED(KMPH)             47 non-null float64\n",
      "NUMBER OF COUNTIES              47 non-null int64\n",
      "dtypes: float64(8), int64(4), object(1)\n",
      "memory usage: 5.1+ KB\n"
     ]
    }
   ],
   "source": [
    "#df_merge = pd.merge(df_Pac_new, df_emerg_new, on = ['YEAR', 'NAME'], how = 'inner')\n",
    "df_merge = pd.merge(df_Atl_new, df_emerg_new, on = ['YEAR', 'NAME'], how = 'inner')\n",
    "\n",
    "df_merge.info()\n",
    "#df_merge"
   ]
  },
  {
   "cell_type": "code",
   "execution_count": 625,
   "metadata": {
    "collapsed": true
   },
   "outputs": [],
   "source": [
    "#from pygeocoder import Geocoder\n",
    "#from pygeolib import GeocoderError"
   ]
  },
  {
   "cell_type": "code",
   "execution_count": 626,
   "metadata": {
    "collapsed": false
   },
   "outputs": [],
   "source": [
    "#try:\n",
    "#    g = Geocoder.reverse_geocode(30.1, -94.2)\n",
    "#    print(g.country)\n",
    "#except GeocoderError:\n",
    "#    print('In the ocean')\n"
   ]
  },
  {
   "cell_type": "code",
   "execution_count": 627,
   "metadata": {
    "collapsed": false
   },
   "outputs": [],
   "source": [
    "#df_merge['STRENGTH AT LANDING'] = 0\n",
    "\n",
    "#for k in range(len(df_merge.index)):\n",
    "#    name = df_merge.loc[k, 'NAME']\n",
    "#    year = df_merge.loc[k, 'YEAR']\n",
    "\n",
    "\n",
    "#    i = 0\n",
    "#    location = ''\n",
    "#    dfm  = 0\n",
    "#    while True:\n",
    "#        aux_long = df_Atl[(df_Atl['YEAR'] == year) & (df_Atl['NAME'] == name )]['LONG'].iloc[i]\n",
    "#        aux_lat = df_Atl[(df_Atl['YEAR'] == year) & (df_Atl['NAME'] == name )]['LAT'].iloc[i]\n",
    "#        try:\n",
    "#            g = Geocoder.reverse_geocode(aux_lat, aux_long)\n",
    "#            location = g.country\n",
    "            #print(location)\n",
    "#        except GeocoderError:\n",
    "#           location = 'In the ocean'\n",
    "            #print(location)\n",
    "\n",
    "#        if  ( (location == 'United States') or \\\n",
    "#             ( i == len(df_Atl[(df_Atl['YEAR'] == year) & (df_Atl['NAME'] == name )]['LONG'].index)-1 ) ):\n",
    "#            break\n",
    "        \n",
    "            \n",
    "#        dfm = df_Atl[(df_Atl['YEAR'] == year) & (df_Atl['NAME'] == name )]['EFFECTIVE STRENGTH'].iloc[i]\n",
    "#        i +=1\n",
    "    \n",
    "#    df_merge.loc[k, 'STRENGTH AT LANDING'] = dfm\n",
    "    #print(dfm)\n",
    "    "
   ]
  }
 ],
 "metadata": {
  "kernelspec": {
   "display_name": "Python 3",
   "language": "python",
   "name": "python3"
  },
  "language_info": {
   "codemirror_mode": {
    "name": "ipython",
    "version": 3
   },
   "file_extension": ".py",
   "mimetype": "text/x-python",
   "name": "python",
   "nbconvert_exporter": "python",
   "pygments_lexer": "ipython3",
   "version": "3.6.0"
  }
 },
 "nbformat": 4,
 "nbformat_minor": 2
}
